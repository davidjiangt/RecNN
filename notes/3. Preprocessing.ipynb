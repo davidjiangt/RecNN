{
 "cells": [
  {
   "cell_type": "markdown",
   "metadata": {},
   "source": [
    "# Text preprocessing"
   ]
  },
  {
   "cell_type": "markdown",
   "metadata": {},
   "source": [
    "## Google's BERT"
   ]
  },
  {
   "cell_type": "code",
   "execution_count": 1,
   "metadata": {},
   "outputs": [
    {
     "name": "stdout",
     "output_type": "stream",
     "text": [
      "Better speed can be achieved with apex installed from https://www.github.com/nvidia/apex.\n"
     ]
    }
   ],
   "source": [
    "import pandas as pd\n",
    "import pickle\n",
    "from pytorch_pretrained_bert import BertTokenizer, BertModel\n",
    "import torch\n",
    "from tqdm import tqdm_notebook as tqdm"
   ]
  },
  {
   "cell_type": "code",
   "execution_count": 2,
   "metadata": {},
   "outputs": [],
   "source": [
    "# Model imports\n",
    "cuda = torch.device('cuda')\n",
    "bert = BertModel.from_pretrained('bert-base-uncased').to(cuda)\n",
    "bert.eval()\n",
    "\n",
    "tokenizer = BertTokenizer.from_pretrained('bert-base-uncased')"
   ]
  },
  {
   "cell_type": "code",
   "execution_count": 3,
   "metadata": {},
   "outputs": [],
   "source": [
    "infos = pickle.load(open('../data/infos.p', 'rb'))"
   ]
  },
  {
   "cell_type": "code",
   "execution_count": 4,
   "metadata": {},
   "outputs": [
    {
     "data": {
      "text/plain": [
       "{'adult': False,\n",
       " 'collection': 10194,\n",
       " 'genres': [16, 35, 10751],\n",
       " 'original_language': 'en',\n",
       " 'overview': \"Led by Woody, Andy's toys live happily in his room until Andy's birthday brings Buzz Lightyear onto the scene. Afraid of losing his place in Andy's heart, Woody plots against Buzz. But when circumstances separate Buzz and Woody from their owner, the duo eventually learns to put aside their differences.\",\n",
       " 'popularity': 25.398,\n",
       " 'production_companies': [3],\n",
       " 'production_countries': ['us'],\n",
       " 'release_year': 1995,\n",
       " 'release_month': 10,\n",
       " 'revenue': 373554033,\n",
       " 'runtime': 81,\n",
       " 'spoken_languages': ['en'],\n",
       " 'tagline': '',\n",
       " 'title': 'Toy Story',\n",
       " 'vote_average': 7.9,\n",
       " 'vote_count': 9787,\n",
       " 'budget': 30000000,\n",
       " 'revenue_d': 343554033}"
      ]
     },
     "execution_count": 4,
     "metadata": {},
     "output_type": "execute_result"
    }
   ],
   "source": [
    "infos[1]"
   ]
  },
  {
   "cell_type": "code",
   "execution_count": 5,
   "metadata": {},
   "outputs": [
    {
     "data": {
      "application/vnd.jupyter.widget-view+json": {
       "model_id": "bea324b6a76f4567a7352bb53d3025b2",
       "version_major": 2,
       "version_minor": 0
      },
      "text/plain": [
       "HBox(children=(IntProgress(value=0, max=27278), HTML(value='')))"
      ]
     },
     "metadata": {},
     "output_type": "display_data"
    },
    {
     "name": "stdout",
     "output_type": "stream",
     "text": [
      "\n"
     ]
    }
   ],
   "source": [
    "infos_tensor = {}\n",
    "for k,v in tqdm(infos.items()):\n",
    "    v = (v['overview'] + v['tagline'] + v['title'])[:512]\n",
    "    v = tokenizer.tokenize(v)\n",
    "    v = tokenizer.convert_tokens_to_ids(v)\n",
    "    v = torch.tensor(v).to(cuda)\n",
    "    infos_tensor[k] = v"
   ]
  },
  {
   "cell_type": "code",
   "execution_count": 6,
   "metadata": {},
   "outputs": [],
   "source": [
    "from collections import OrderedDict\n",
    "infos_sorted = OrderedDict(sorted(infos_tensor.items(), key=lambda t: t[1].size()))"
   ]
  },
  {
   "cell_type": "code",
   "execution_count": 7,
   "metadata": {},
   "outputs": [
    {
     "data": {
      "application/vnd.jupyter.widget-view+json": {
       "model_id": "a959831f4b7d4d23b5b23e14eee089a8",
       "version_major": 2,
       "version_minor": 0
      },
      "text/plain": [
       "HBox(children=(IntProgress(value=0, max=27278), HTML(value='')))"
      ]
     },
     "metadata": {},
     "output_type": "display_data"
    },
    {
     "name": "stderr",
     "output_type": "stream",
     "text": [
      "/home/dev/anaconda3/lib/python3.7/site-packages/ipykernel_launcher.py:17: UserWarning: To copy construct from a tensor, it is recommended to use sourceTensor.clone().detach() or sourceTensor.clone().detach().requires_grad_(True), rather than torch.tensor(sourceTensor).\n"
     ]
    },
    {
     "name": "stdout",
     "output_type": "stream",
     "text": [
      "\n"
     ]
    }
   ],
   "source": [
    "infos_bert = {}\n",
    "batch = []\n",
    "indexes = []\n",
    "max_size = 0\n",
    "batch_size = 10\n",
    "\n",
    "for i in tqdm(range(len(infos_sorted))):\n",
    "    idx, tensor = infos_sorted.popitem()\n",
    "    batch.append(tensor)\n",
    "    indexes.append(idx)\n",
    "    \n",
    "    if len(batch) >= batch_size:\n",
    "        seq_lengths = torch.tensor([len(seq) for seq in batch]).long().cuda()\n",
    "        seq_tensor = torch.zeros((len(batch), seq_lengths.max())).long().cuda()\n",
    "        \n",
    "        for idx, (seq, seqlen) in enumerate(zip(batch, seq_lengths)):\n",
    "            seq_tensor[idx, :seqlen] = torch.tensor(seq).long().cuda()\n",
    "            \n",
    "        _, output = bert(seq_tensor)\n",
    "\n",
    "        output = output.detach().cpu()\n",
    "        for i in range(output.size(0)):\n",
    "            infos_bert[indexes[i]] = output[i]\n",
    "            \n",
    "        batch = []\n",
    "        indexes = []\n",
    "    "
   ]
  },
  {
   "cell_type": "code",
   "execution_count": 8,
   "metadata": {},
   "outputs": [
    {
     "name": "stderr",
     "output_type": "stream",
     "text": [
      "/home/dev/anaconda3/lib/python3.7/site-packages/ipykernel_launcher.py:5: UserWarning: To copy construct from a tensor, it is recommended to use sourceTensor.clone().detach() or sourceTensor.clone().detach().requires_grad_(True), rather than torch.tensor(sourceTensor).\n",
      "  \"\"\"\n"
     ]
    }
   ],
   "source": [
    "seq_lengths = torch.tensor([len(seq) for seq in batch]).long().cuda()\n",
    "seq_tensor = torch.zeros((len(batch), seq_lengths.max())).long().cuda()\n",
    "\n",
    "for idx, (seq, seqlen) in enumerate(zip(batch, seq_lengths)):\n",
    "    seq_tensor[idx, :seqlen] = torch.tensor(seq).long().cuda()\n",
    "            \n",
    "    _, output = bert(seq_tensor)\n",
    "\n",
    "    output = output.detach().cpu()\n",
    "    for i in range(output.size(0)):\n",
    "        infos_bert[indexes[i]] = output[i]"
   ]
  },
  {
   "cell_type": "code",
   "execution_count": 9,
   "metadata": {},
   "outputs": [],
   "source": [
    "pickle.dump(dict([(i[0], i[1].numpy()) for i in infos_bert.items()]),\n",
    "            open('../data/texts_bert.p', 'wb'))"
   ]
  },
  {
   "cell_type": "markdown",
   "metadata": {},
   "source": [
    "## GPT 2"
   ]
  },
  {
   "cell_type": "code",
   "execution_count": 1,
   "metadata": {},
   "outputs": [
    {
     "name": "stdout",
     "output_type": "stream",
     "text": [
      "Better speed can be achieved with apex installed from https://www.github.com/nvidia/apex.\n"
     ]
    }
   ],
   "source": [
    "import pandas as pd\n",
    "import pickle\n",
    "from pytorch_pretrained_bert import GPT2Tokenizer, GPT2Model\n",
    "import torch\n",
    "from tqdm import tqdm_notebook as tqdm"
   ]
  },
  {
   "cell_type": "code",
   "execution_count": 2,
   "metadata": {},
   "outputs": [],
   "source": [
    "cuda = torch.device('cuda')\n",
    "gpt2 = GPT2Model.from_pretrained('gpt2').to(cuda)\n",
    "gpt2.eval()\n",
    "\n",
    "tokenizer = GPT2Tokenizer.from_pretrained('gpt2')"
   ]
  },
  {
   "cell_type": "code",
   "execution_count": 3,
   "metadata": {},
   "outputs": [],
   "source": [
    "infos = pickle.load(open('../data/infos.p', 'rb'))"
   ]
  },
  {
   "cell_type": "code",
   "execution_count": 4,
   "metadata": {},
   "outputs": [
    {
     "data": {
      "application/vnd.jupyter.widget-view+json": {
       "model_id": "4fd388d0f9dc43f5b16badbc33878d64",
       "version_major": 2,
       "version_minor": 0
      },
      "text/plain": [
       "HBox(children=(IntProgress(value=0, max=27278), HTML(value='')))"
      ]
     },
     "metadata": {},
     "output_type": "display_data"
    },
    {
     "name": "stdout",
     "output_type": "stream",
     "text": [
      "\n"
     ]
    }
   ],
   "source": [
    "infos_tensor = {}\n",
    "for k,v in tqdm(infos.items()):\n",
    "    v = (v['overview'] + v['tagline'] + v['title'])[:512]\n",
    "    v = tokenizer.encode(v)\n",
    "    v = torch.tensor(v).to(cuda)\n",
    "    infos_tensor[k] = v"
   ]
  },
  {
   "cell_type": "code",
   "execution_count": 5,
   "metadata": {},
   "outputs": [],
   "source": [
    "from collections import OrderedDict\n",
    "infos_sorted = OrderedDict(sorted(infos_tensor.items(), key=lambda t: t[1].size()))"
   ]
  },
  {
   "cell_type": "code",
   "execution_count": 6,
   "metadata": {},
   "outputs": [
    {
     "data": {
      "application/vnd.jupyter.widget-view+json": {
       "model_id": "216a396b4e0744668948c5a5da78d741",
       "version_major": 2,
       "version_minor": 0
      },
      "text/plain": [
       "HBox(children=(IntProgress(value=0, max=27278), HTML(value='')))"
      ]
     },
     "metadata": {},
     "output_type": "display_data"
    },
    {
     "name": "stderr",
     "output_type": "stream",
     "text": [
      "/home/dev/anaconda3/lib/python3.7/site-packages/ipykernel_launcher.py:17: UserWarning: To copy construct from a tensor, it is recommended to use sourceTensor.clone().detach() or sourceTensor.clone().detach().requires_grad_(True), rather than torch.tensor(sourceTensor).\n"
     ]
    },
    {
     "name": "stdout",
     "output_type": "stream",
     "text": [
      "\n"
     ]
    }
   ],
   "source": [
    "infos_gpt2 = {}\n",
    "batch = []\n",
    "indexes = []\n",
    "max_size = 0\n",
    "batch_size = 5\n",
    "\n",
    "for i in tqdm(range(len(infos_sorted))):\n",
    "    idx, tensor = infos_sorted.popitem()\n",
    "    batch.append(tensor)\n",
    "    indexes.append(idx)\n",
    "    \n",
    "    if len(batch) >= batch_size:\n",
    "        seq_lengths = torch.tensor([len(seq) for seq in batch]).long().cuda()\n",
    "        seq_tensor = torch.zeros((len(batch), seq_lengths.max())).long().cuda()\n",
    "        \n",
    "        for idx, (seq, seqlen) in enumerate(zip(batch, seq_lengths)):\n",
    "            seq_tensor[idx, :seqlen] = torch.tensor(seq).long().cuda()\n",
    "            \n",
    "        output, _ = gpt2(seq_tensor)\n",
    "        output = output[:,-1]\n",
    "        output = output.detach().cpu()\n",
    "        for i in range(output.size(0)):\n",
    "            infos_gpt2[indexes[i]] = output[i]\n",
    "            \n",
    "        batch = []\n",
    "        indexes = []"
   ]
  },
  {
   "cell_type": "code",
   "execution_count": null,
   "metadata": {},
   "outputs": [],
   "source": [
    "seq_lengths = torch.tensor([len(seq) for seq in batch]).long().cuda()\n",
    "seq_tensor = torch.zeros((len(batch), seq_lengths.max())).long().cuda()\n",
    "\n",
    "for idx, (seq, seqlen) in enumerate(zip(batch, seq_lengths)):\n",
    "    seq_tensor[idx, :seqlen] = torch.tensor(seq).long().cuda()\n",
    "            \n",
    "    _, output = gpt2(seq_tensor)\n",
    "    \n",
    "    output = output[:,-1]\n",
    "    output = output.detach().cpu()\n",
    "    \n",
    "    for i in range(output.size(0)):\n",
    "        infos_gpt2[indexes[i]] = output[i]"
   ]
  },
  {
   "cell_type": "code",
   "execution_count": 7,
   "metadata": {},
   "outputs": [],
   "source": [
    "pickle.dump(dict([(i[0], i[1].numpy()) for i in infos_gpt2.items()]),\n",
    "            open('../data/texts_gpt2.p', 'wb'))"
   ]
  },
  {
   "cell_type": "markdown",
   "metadata": {},
   "source": [
    "# Label Encoding"
   ]
  },
  {
   "cell_type": "code",
   "execution_count": 1,
   "metadata": {},
   "outputs": [],
   "source": [
    "import pandas as pd\n",
    "import pickle"
   ]
  },
  {
   "cell_type": "code",
   "execution_count": 2,
   "metadata": {},
   "outputs": [],
   "source": [
    "infos = pickle.load(open('../data/infos.p', 'rb'))"
   ]
  },
  {
   "cell_type": "markdown",
   "metadata": {},
   "source": [
    "### Multilabel"
   ]
  },
  {
   "cell_type": "code",
   "execution_count": 3,
   "metadata": {},
   "outputs": [],
   "source": [
    "def multicat_label_encode(infos, col, trim=0):\n",
    "    col_sort = list()\n",
    "    [col_sort.extend(set(i[col])) for i in infos.values()]\n",
    "    col_sort = pd.Series(col_sort).value_counts().index.tolist()\n",
    "    if trim: col_sort = col_sort[:trim]\n",
    "    col_dict = dict([(k, idx) for idx, k in enumerate(col_sort)])\n",
    "    for i in infos.keys():\n",
    "        infos[i][col] = list(map(col_dict.get, infos[i][col]))\n",
    "    print(col, 'unique:', len(col_sort))"
   ]
  },
  {
   "cell_type": "code",
   "execution_count": 4,
   "metadata": {},
   "outputs": [
    {
     "name": "stdout",
     "output_type": "stream",
     "text": [
      "genres unique: 23\n",
      "production_countries unique: 151\n",
      "spoken_languages unique: 140\n",
      "production_companies unique: 500\n"
     ]
    }
   ],
   "source": [
    "multicat_label_encode(infos, 'genres')\n",
    "multicat_label_encode(infos, 'production_countries')\n",
    "multicat_label_encode(infos, 'spoken_languages')\n",
    "multicat_label_encode(infos, 'production_companies', 500)"
   ]
  },
  {
   "cell_type": "markdown",
   "metadata": {},
   "source": [
    "### Unilabel"
   ]
  },
  {
   "cell_type": "code",
   "execution_count": 5,
   "metadata": {},
   "outputs": [],
   "source": [
    "def label_encode(infos, col, trim=0):\n",
    "    col_sort = pd.Series([i[col] for i in infos.values()]).value_counts().index.tolist()\n",
    "    if trim: col_sort = col_sort[:trim]\n",
    "    col_dict = dict([(k, idx) for idx, k in enumerate(col_sort)])\n",
    "    for i in infos.keys():\n",
    "        infos[i][col] = col_dict.get(infos[i][col])\n",
    "    print(col, 'unique:', len(col_sort))"
   ]
  },
  {
   "cell_type": "code",
   "execution_count": 6,
   "metadata": {},
   "outputs": [
    {
     "name": "stdout",
     "output_type": "stream",
     "text": [
      "collection unique: 910\n",
      "original_language unique: 89\n"
     ]
    }
   ],
   "source": [
    "label_encode(infos, 'collection', 910)\n",
    "label_encode(infos, 'original_language')"
   ]
  },
  {
   "cell_type": "code",
   "execution_count": 7,
   "metadata": {},
   "outputs": [
    {
     "data": {
      "text/plain": [
       "{'adult': False,\n",
       " 'collection': 210,\n",
       " 'genres': [14, 1, 11],\n",
       " 'original_language': 0,\n",
       " 'overview': \"Led by Woody, Andy's toys live happily in his room until Andy's birthday brings Buzz Lightyear onto the scene. Afraid of losing his place in Andy's heart, Woody plots against Buzz. But when circumstances separate Buzz and Woody from their owner, the duo eventually learns to put aside their differences.\",\n",
       " 'popularity': 25.398,\n",
       " 'production_companies': [96],\n",
       " 'production_countries': [0],\n",
       " 'release_year': 1995,\n",
       " 'release_month': 10,\n",
       " 'revenue': 373554033,\n",
       " 'runtime': 81,\n",
       " 'spoken_languages': [0],\n",
       " 'tagline': '',\n",
       " 'title': 'Toy Story',\n",
       " 'vote_average': 7.9,\n",
       " 'vote_count': 9787,\n",
       " 'budget': 30000000,\n",
       " 'revenue_d': 343554033}"
      ]
     },
     "execution_count": 7,
     "metadata": {},
     "output_type": "execute_result"
    }
   ],
   "source": [
    "infos[1]"
   ]
  },
  {
   "cell_type": "markdown",
   "metadata": {},
   "source": [
    "## Standartization"
   ]
  },
  {
   "cell_type": "code",
   "execution_count": 8,
   "metadata": {},
   "outputs": [],
   "source": [
    "from sklearn import preprocessing\n",
    "import numpy as np\n",
    "import matplotlib.pyplot as plt\n",
    "%matplotlib inline\n",
    "\n",
    "from jupyterthemes import jtplot\n",
    "jtplot.style(theme='monokai')"
   ]
  },
  {
   "cell_type": "code",
   "execution_count": 9,
   "metadata": {},
   "outputs": [],
   "source": [
    "def standardize(infos, col, plot=True, bins=100):\n",
    "    scaler = preprocessing.StandardScaler()\n",
    "    a = np.array([i[col] or 0 for i in infos.values()])\n",
    "    if plot:\n",
    "        plt.subplot(2, 1, 1)sns.set(rc={'figure.figsize':(11.7,8.27)})\n",
    "        plt.hist(a, bins=bins)\n",
    "        plt.ylabel('Before')\n",
    "    a = a.reshape(-1, 1)\n",
    "    scaler = scaler.fit(a)\n",
    "    for i in infos.keys():\n",
    "        infos[i][col] = scaler.transform([[infos[i][col]]])[0,0]\n",
    "        \n",
    "    if plot:\n",
    "        plt.subplot(2, 1, 2)\n",
    "        plt.hist([i[col] for i in infos.values()], bins=bins)\n",
    "        plt.ylabel('After')\n",
    "        plt.show()"
   ]
  },
  {
   "cell_type": "code",
   "execution_count": 10,
   "metadata": {},
   "outputs": [
    {
     "name": "stderr",
     "output_type": "stream",
     "text": [
      "/home/dev/anaconda3/lib/python3.7/site-packages/sklearn/utils/validation.py:595: DataConversionWarning: Data with input dtype int64 was converted to float64 by StandardScaler.\n",
      "  warnings.warn(msg, DataConversionWarning)\n",
      "/home/dev/anaconda3/lib/python3.7/site-packages/numpy/lib/histograms.py:754: RuntimeWarning: invalid value encountered in greater_equal\n",
      "  keep = (tmp_a >= first_edge)\n",
      "/home/dev/anaconda3/lib/python3.7/site-packages/numpy/lib/histograms.py:755: RuntimeWarning: invalid value encountered in less_equal\n",
      "  keep &= (tmp_a <= last_edge)\n"
     ]
    },
    {
     "data": {
      "image/png": "[encoded data removed]",
      "text/plain": [
       "<Figure size 432x288 with 2 Axes>"
      ]
     },
     "metadata": {
      "needs_background": "dark"
     },
     "output_type": "display_data"
    }
   ],
   "source": [
    "standardize(infos, 'runtime')"
   ]
  },
  {
   "cell_type": "code",
   "execution_count": 11,
   "metadata": {},
   "outputs": [
    {
     "data": {
      "image/png": "[encoded data removed]",
      "text/plain": [
       "<Figure size 432x288 with 2 Axes>"
      ]
     },
     "metadata": {
      "needs_background": "dark"
     },
     "output_type": "display_data"
    }
   ],
   "source": [
    "standardize(infos, 'vote_average', bins=20)"
   ]
  },
  {
   "cell_type": "code",
   "execution_count": 12,
   "metadata": {},
   "outputs": [
    {
     "data": {
      "image/png": "[encoded data removed]",
      "text/plain": [
       "<Figure size 432x288 with 2 Axes>"
      ]
     },
     "metadata": {
      "needs_background": "dark"
     },
     "output_type": "display_data"
    }
   ],
   "source": [
    "standardize(infos, 'popularity', bins=50)"
   ]
  },
  {
   "cell_type": "code",
   "execution_count": 13,
   "metadata": {},
   "outputs": [
    {
     "name": "stderr",
     "output_type": "stream",
     "text": [
      "/home/dev/anaconda3/lib/python3.7/site-packages/sklearn/utils/validation.py:595: DataConversionWarning: Data with input dtype int64 was converted to float64 by StandardScaler.\n",
      "  warnings.warn(msg, DataConversionWarning)\n"
     ]
    },
    {
     "data": {
      "image/png": "[encoded data removed]",
      "text/plain": [
       "<Figure size 432x288 with 2 Axes>"
      ]
     },
     "metadata": {
      "needs_background": "dark"
     },
     "output_type": "display_data"
    }
   ],
   "source": [
    "standardize(infos, 'revenue', bins=50)"
   ]
  },
  {
   "cell_type": "code",
   "execution_count": 14,
   "metadata": {},
   "outputs": [
    {
     "name": "stderr",
     "output_type": "stream",
     "text": [
      "/home/dev/anaconda3/lib/python3.7/site-packages/sklearn/utils/validation.py:595: DataConversionWarning: Data with input dtype int64 was converted to float64 by StandardScaler.\n",
      "  warnings.warn(msg, DataConversionWarning)\n"
     ]
    },
    {
     "data": {
      "image/png": "[encoded data removed]",
      "text/plain": [
       "<Figure size 432x288 with 2 Axes>"
      ]
     },
     "metadata": {
      "needs_background": "dark"
     },
     "output_type": "display_data"
    }
   ],
   "source": [
    "standardize(infos, 'vote_count', bins=50)"
   ]
  },
  {
   "cell_type": "code",
   "execution_count": 15,
   "metadata": {},
   "outputs": [
    {
     "name": "stderr",
     "output_type": "stream",
     "text": [
      "/home/dev/anaconda3/lib/python3.7/site-packages/sklearn/utils/validation.py:595: DataConversionWarning: Data with input dtype int64 was converted to float64 by StandardScaler.\n",
      "  warnings.warn(msg, DataConversionWarning)\n"
     ]
    },
    {
     "data": {
      "image/png": "[encoded data removed]",
      "text/plain": [
       "<Figure size 432x288 with 2 Axes>"
      ]
     },
     "metadata": {
      "needs_background": "dark"
     },
     "output_type": "display_data"
    }
   ],
   "source": [
    "standardize(infos, 'budget', bins=50)"
   ]
  },
  {
   "cell_type": "code",
   "execution_count": 16,
   "metadata": {},
   "outputs": [
    {
     "name": "stderr",
     "output_type": "stream",
     "text": [
      "/home/dev/anaconda3/lib/python3.7/site-packages/sklearn/utils/validation.py:595: DataConversionWarning: Data with input dtype int64 was converted to float64 by StandardScaler.\n",
      "  warnings.warn(msg, DataConversionWarning)\n"
     ]
    },
    {
     "data": {
      "image/png": "[encoded data removed]",
      "text/plain": [
       "<Figure size 432x288 with 2 Axes>"
      ]
     },
     "metadata": {
      "needs_background": "dark"
     },
     "output_type": "display_data"
    }
   ],
   "source": [
    "standardize(infos, 'revenue_d', bins=50)"
   ]
  },
  {
   "cell_type": "code",
   "execution_count": 17,
   "metadata": {},
   "outputs": [],
   "source": [
    "for i in infos.keys():\n",
    "    del infos[i]['overview']\n",
    "    del infos[i]['tagline']\n",
    "    del infos[i]['title']\n",
    "    infos[i]['production_companies'] = [i for i in infos[i]['production_companies'] \n",
    "                                        if i is not None]"
   ]
  },
  {
   "cell_type": "code",
   "execution_count": 20,
   "metadata": {},
   "outputs": [
    {
     "data": {
      "text/plain": [
       "{'adult': False,\n",
       " 'collection': None,\n",
       " 'genres': [7, 12, 11],\n",
       " 'original_language': 0,\n",
       " 'popularity': 0.1084208585916617,\n",
       " 'production_companies': [13, 128],\n",
       " 'production_countries': [0],\n",
       " 'release_year': 1995,\n",
       " 'release_month': 12,\n",
       " 'revenue': 3.376926602813796,\n",
       " 'runtime': 0.16506363730309434,\n",
       " 'spoken_languages': [0, 1],\n",
       " 'vote_average': 0.7597458971107176,\n",
       " 'vote_count': 1.022352295938305,\n",
       " 'budget': 2.9205324409756246,\n",
       " 'revenue_d': 3.1674092020808633}"
      ]
     },
     "execution_count": 20,
     "metadata": {},
     "output_type": "execute_result"
    }
   ],
   "source": [
    "infos[2]"
   ]
  },
  {
   "cell_type": "code",
   "execution_count": 18,
   "metadata": {},
   "outputs": [],
   "source": [
    "pickle.dump(infos,  open( \"../data/processed_infos.p\", \"wb\" ))"
   ]
  },
  {
   "cell_type": "markdown",
   "metadata": {},
   "source": [
    "## Pytorch integration"
   ]
  },
  {
   "cell_type": "code",
   "execution_count": 21,
   "metadata": {},
   "outputs": [],
   "source": [
    "texts = pickle.load(open('../data/texts_bert.p', 'rb'))"
   ]
  },
  {
   "cell_type": "code",
   "execution_count": 37,
   "metadata": {},
   "outputs": [
    {
     "data": {
      "application/vnd.jupyter.widget-view+json": {
       "model_id": "f8133163862342448f0f1b2f15057947",
       "version_major": 2,
       "version_minor": 0
      },
      "text/plain": [
       "HBox(children=(IntProgress(value=0, max=27278), HTML(value='')))"
      ]
     },
     "metadata": {},
     "output_type": "display_data"
    },
    {
     "name": "stdout",
     "output_type": "stream",
     "text": [
      "\n"
     ]
    }
   ],
   "source": [
    "from tqdm import tqdm_notebook as tqdm\n",
    "import torch\n",
    "\n",
    "tensor_dict = {}\n",
    "\n",
    "for i in tqdm(infos.keys()):\n",
    "    \n",
    "    # (cathegorical data encodeing)\n",
    "    # [multicat] array[[indexes]] = 1\n",
    "    # genres unique: 23\n",
    "    # production_countries unique: 151\n",
    "    # spoken_languages unique: 140\n",
    "    # production_companies unique: 500\n",
    "    # [unicat] array[index] = 1\n",
    "    # collection unique: 910\n",
    "    # original_language unique: 89\n",
    "    \n",
    "    genres = torch.zeros(1, 23)\n",
    "    production_countries = torch.zeros(1, 151)\n",
    "    spoken_languages = torch.zeros(1, 140)\n",
    "    production_companies = torch.zeros(1, 500)\n",
    "    collection = torch.zeros(1, 910)\n",
    "    original_language = torch.zeros(1, 89)\n",
    "\n",
    "    genres[0][[infos[i]['genres']]] = 1\n",
    "    production_countries[0][[infos[i]['production_countries']]] = 1\n",
    "    spoken_languages[0][[infos[i]['spoken_languages']]] = 1\n",
    "    production_companies[0][[infos[i]['production_companies']]] = 1\n",
    "    if infos[i]['collection'] is not None:\n",
    "        collection[0][infos[i]['collection']] = 1\n",
    "    original_language[0][infos[i]['original_language']] = 1\n",
    "\n",
    "    misc = torch.tensor([[infos[i]['adult'], infos[i]['popularity'],\n",
    "                       infos[i]['release_year'], infos[i]['release_month'],\n",
    "                       infos[i]['revenue'],infos[i]['runtime'],\n",
    "                       infos[i]['vote_average'],infos[i]['vote_count'],\n",
    "                       infos[i]['budget'],infos[i]['revenue_d'],\n",
    "                       ]])\n",
    "    \n",
    "    text = torch.from_numpy(texts[i])\n",
    "    text = text.unsqueeze(0)\n",
    "    item = torch.cat([genres, production_countries,\n",
    "                     spoken_languages, production_companies,\n",
    "                     collection, original_language,\n",
    "                     misc, text], 1)\n",
    "    \n",
    "    # note may produce some nans!\n",
    "    item[torch.isnan(item)] = 0\n",
    "    tensor_dict[i] = item.squeeze()"
   ]
  },
  {
   "cell_type": "code",
   "execution_count": 40,
   "metadata": {},
   "outputs": [],
   "source": [
    "pickle.dump(tensor_dict,  open( \"../data/infos.pytorch\", \"wb\"))"
   ]
  },
  {
   "cell_type": "markdown",
   "metadata": {},
   "source": [
    "## AutoEncoders for Unsupervised Feature Learning\n",
    "### Not working\n",
    "\n",
    "It just seems to binary label encode it with tanh function. So there is 128 bit combination. Yucky.\n",
    "\n",
    "**Try PCA instead**"
   ]
  },
  {
   "cell_type": "code",
   "execution_count": 5,
   "metadata": {},
   "outputs": [],
   "source": [
    "%matplotlib inline\n",
    "\n",
    "import torch\n",
    "import torch.nn as nn\n",
    "import torch.nn.functional as F\n",
    "import torch.optim as optim\n",
    "from tqdm import tqdm_notebook as tqdm\n",
    "import seaborn as sns\n",
    "import pickle\n",
    "\n",
    "sns.set()\n",
    "cuda = torch.device('cuda')"
   ]
  },
  {
   "cell_type": "code",
   "execution_count": 51,
   "metadata": {},
   "outputs": [],
   "source": [
    "class AutoEncoder(nn.Module):\n",
    "    def __init__(self):\n",
    "        super(AutoEncoder, self).__init__()\n",
    "        \n",
    "        self.encoder = nn.Sequential(\n",
    "            nn.Linear(2591, 2048),\n",
    "            nn.ReLU(),\n",
    "            nn.Dropout(0.3),\n",
    "            nn.Linear(2048, 512),\n",
    "            nn.ReLU(),\n",
    "            nn.Dropout(0.3),\n",
    "            nn.Linear(512, 512),\n",
    "            nn.ReLU(),\n",
    "            nn.Dropout(0.3),\n",
    "            nn.Linear(512, 256),\n",
    "            nn.ReLU(),\n",
    "            nn.Dropout(0.3),\n",
    "            nn.Linear(256, 128),\n",
    "            nn.Tanh()\n",
    "        )\n",
    "        \n",
    "        self.decoder = nn.Sequential(\n",
    "            nn.Linear(128, 256),\n",
    "            nn.ReLU(),\n",
    "            nn.Dropout(0.3),\n",
    "            nn.Linear(256, 512),\n",
    "            nn.ReLU(),\n",
    "            nn.Dropout(0.3),\n",
    "            nn.Dropout(0.3),\n",
    "            nn.Linear(512, 512),\n",
    "            nn.ReLU(),\n",
    "            nn.Linear(512, 2048),\n",
    "            nn.ReLU(),\n",
    "            nn.Dropout(0.3),\n",
    "            nn.Linear(2048, 2591),\n",
    "        )\n",
    "        \n",
    "    def forward(self, x):\n",
    "        x = self.encoder(x)\n",
    "        x = self.decoder(x)\n",
    "        return x"
   ]
  },
  {
   "cell_type": "code",
   "execution_count": 137,
   "metadata": {},
   "outputs": [],
   "source": [
    "movies = pickle.load(open('../data/infos.pytorch', 'rb'))"
   ]
  },
  {
   "cell_type": "code",
   "execution_count": 138,
   "metadata": {},
   "outputs": [],
   "source": [
    "data = torch.stack(list(movies.values())).to(cuda)\n",
    "data[torch.isnan(data)] = 0"
   ]
  },
  {
   "cell_type": "code",
   "execution_count": 139,
   "metadata": {},
   "outputs": [
    {
     "data": {
      "application/vnd.jupyter.widget-view+json": {
       "model_id": "876157fbee9c43f48d241976642d5a07",
       "version_major": 2,
       "version_minor": 0
      },
      "text/plain": [
       "HBox(children=(IntProgress(value=0, max=500), HTML(value='')))"
      ]
     },
     "metadata": {},
     "output_type": "display_data"
    },
    {
     "name": "stdout",
     "output_type": "stream",
     "text": [
      "\n"
     ]
    }
   ],
   "source": [
    "n_epochs = 500\n",
    "batch_size = 1024\n",
    "\n",
    "model = AutoEncoder().to(cuda)\n",
    "criterion = nn.MSELoss()\n",
    "optimizer = optim.Adam(model.parameters(), lr=10e-5)\n",
    "run_loss = []\n",
    "\n",
    "for epoch in tqdm(range(n_epochs)):\n",
    "    for batch in data.split(batch_size):\n",
    "        optimizer.zero_grad()\n",
    "        batch = batch.to(cuda)\n",
    "        output = model(batch).float()\n",
    "        loss = criterion(output, batch)\n",
    "        loss.backward()\n",
    "        optimizer.step()\n",
    "        run_loss.append(loss.item())"
   ]
  },
  {
   "cell_type": "code",
   "execution_count": 140,
   "metadata": {},
   "outputs": [
    {
     "data": {
      "text/plain": [
       "<matplotlib.axes._subplots.AxesSubplot at 0x7f72f290f908>"
      ]
     },
     "execution_count": 140,
     "metadata": {},
     "output_type": "execute_result"
    },
    {
     "data": {
      "image/png": "[encoded data removed]",
      "text/plain": [
       "<Figure size 432x288 with 1 Axes>"
      ]
     },
     "metadata": {},
     "output_type": "display_data"
    }
   ],
   "source": [
    "sns.lineplot(x=range(len(run_loss)), y=run_loss)"
   ]
  },
  {
   "cell_type": "code",
   "execution_count": 133,
   "metadata": {},
   "outputs": [
    {
     "data": {
      "application/vnd.jupyter.widget-view+json": {
       "model_id": "87cd6366113a40268e1a1523e694e577",
       "version_major": 2,
       "version_minor": 0
      },
      "text/plain": [
       "HBox(children=(IntProgress(value=0, max=27278), HTML(value='')))"
      ]
     },
     "metadata": {},
     "output_type": "display_data"
    },
    {
     "name": "stdout",
     "output_type": "stream",
     "text": [
      "\n"
     ]
    }
   ],
   "source": [
    "dim_reduced = {}\n",
    "model.eval()\n",
    "\n",
    "for k,v in tqdm(movies.items()):\n",
    "    v = v.unsqueeze(0).to(cuda)\n",
    "    dim_reduced[k] = model.encoder(v)"
   ]
  },
  {
   "cell_type": "code",
   "execution_count": 62,
   "metadata": {},
   "outputs": [],
   "source": [
    "# For some reason it does not work smh\n",
    "pickle.dump(dim_reduced,  open( \"../data/infos_dim128.pytorch\", \"wb\"))"
   ]
  },
  {
   "cell_type": "markdown",
   "metadata": {},
   "source": [
    "## Principal component analysis"
   ]
  },
  {
   "cell_type": "code",
   "execution_count": 1,
   "metadata": {},
   "outputs": [],
   "source": [
    "from sklearn.decomposition import PCA\n",
    "import pickle\n",
    "import torch\n",
    "pca = PCA(128, whiten=True)"
   ]
  },
  {
   "cell_type": "code",
   "execution_count": 2,
   "metadata": {},
   "outputs": [],
   "source": [
    "movies = pickle.load(open('../data/infos.pytorch', 'rb'))\n",
    "data = torch.stack(list(movies.values()))\n",
    "data[torch.isnan(data)] = 0"
   ]
  },
  {
   "cell_type": "code",
   "execution_count": 3,
   "metadata": {},
   "outputs": [
    {
     "data": {
      "text/plain": [
       "PCA(copy=True, iterated_power='auto', n_components=128, random_state=None,\n",
       "  svd_solver='auto', tol=0.0, whiten=True)"
      ]
     },
     "execution_count": 3,
     "metadata": {},
     "output_type": "execute_result"
    }
   ],
   "source": [
    "pca.fit(data.cpu().numpy())"
   ]
  },
  {
   "cell_type": "code",
   "execution_count": 4,
   "metadata": {},
   "outputs": [
    {
     "data": {
      "application/vnd.jupyter.widget-view+json": {
       "model_id": "6165f375ab834b8e9d439e501fb6203d",
       "version_major": 2,
       "version_minor": 0
      },
      "text/plain": [
       "HBox(children=(IntProgress(value=0, max=27278), HTML(value='')))"
      ]
     },
     "metadata": {},
     "output_type": "display_data"
    },
    {
     "name": "stdout",
     "output_type": "stream",
     "text": [
      "\n"
     ]
    }
   ],
   "source": [
    "import numpy as np\n",
    "from tqdm import tqdm_notebook as tqdm\n",
    "dim_reduced = {}\n",
    "\n",
    "for k,v in tqdm(movies.items()):\n",
    "    v = v.numpy()\n",
    "    v[np.isnan(v)] = 0\n",
    "    dim_reduced[k] = torch.from_numpy(pca.transform(v.reshape(1, -1))).squeeze()"
   ]
  },
  {
   "cell_type": "code",
   "execution_count": 5,
   "metadata": {},
   "outputs": [
    {
     "data": {
      "text/plain": [
       "torch.Size([128])"
      ]
     },
     "execution_count": 5,
     "metadata": {},
     "output_type": "execute_result"
    }
   ],
   "source": [
    "dim_reduced[1].size()"
   ]
  },
  {
   "cell_type": "code",
   "execution_count": 12,
   "metadata": {},
   "outputs": [
    {
     "data": {
      "text/html": [
       "<div>\n",
       "<style scoped>\n",
       "    .dataframe tbody tr th:only-of-type {\n",
       "        vertical-align: middle;\n",
       "    }\n",
       "\n",
       "    .dataframe tbody tr th {\n",
       "        vertical-align: top;\n",
       "    }\n",
       "\n",
       "    .dataframe thead th {\n",
       "        text-align: right;\n",
       "    }\n",
       "</style>\n",
       "<table border=\"1\" class=\"dataframe\">\n",
       "  <thead>\n",
       "    <tr style=\"text-align: right;\">\n",
       "      <th></th>\n",
       "      <th>min</th>\n",
       "      <th>max</th>\n",
       "      <th>mean</th>\n",
       "      <th>var</th>\n",
       "      <th>std</th>\n",
       "    </tr>\n",
       "  </thead>\n",
       "  <tbody>\n",
       "    <tr>\n",
       "      <th>0</th>\n",
       "      <td>-0.574633</td>\n",
       "      <td>41.597698</td>\n",
       "      <td>-4.917632e-05</td>\n",
       "      <td>1.000000</td>\n",
       "      <td>1.000000</td>\n",
       "    </tr>\n",
       "    <tr>\n",
       "      <th>1</th>\n",
       "      <td>-2.780210</td>\n",
       "      <td>3.978084</td>\n",
       "      <td>5.422672e-06</td>\n",
       "      <td>1.000000</td>\n",
       "      <td>1.000000</td>\n",
       "    </tr>\n",
       "    <tr>\n",
       "      <th>2</th>\n",
       "      <td>-1.726571</td>\n",
       "      <td>1.865569</td>\n",
       "      <td>-1.139231e-06</td>\n",
       "      <td>1.000000</td>\n",
       "      <td>1.000000</td>\n",
       "    </tr>\n",
       "    <tr>\n",
       "      <th>3</th>\n",
       "      <td>-2.432777</td>\n",
       "      <td>6.199375</td>\n",
       "      <td>7.940363e-06</td>\n",
       "      <td>1.000001</td>\n",
       "      <td>1.000000</td>\n",
       "    </tr>\n",
       "    <tr>\n",
       "      <th>4</th>\n",
       "      <td>-1.755595</td>\n",
       "      <td>26.344355</td>\n",
       "      <td>-8.627016e-06</td>\n",
       "      <td>1.000001</td>\n",
       "      <td>1.000000</td>\n",
       "    </tr>\n",
       "    <tr>\n",
       "      <th>5</th>\n",
       "      <td>-2.926489</td>\n",
       "      <td>12.037609</td>\n",
       "      <td>3.764527e-05</td>\n",
       "      <td>1.000001</td>\n",
       "      <td>1.000001</td>\n",
       "    </tr>\n",
       "    <tr>\n",
       "      <th>6</th>\n",
       "      <td>-5.483139</td>\n",
       "      <td>7.033047</td>\n",
       "      <td>6.146722e-05</td>\n",
       "      <td>1.000001</td>\n",
       "      <td>1.000001</td>\n",
       "    </tr>\n",
       "    <tr>\n",
       "      <th>7</th>\n",
       "      <td>-4.503137</td>\n",
       "      <td>6.839056</td>\n",
       "      <td>6.820387e-05</td>\n",
       "      <td>1.000000</td>\n",
       "      <td>1.000000</td>\n",
       "    </tr>\n",
       "    <tr>\n",
       "      <th>8</th>\n",
       "      <td>-4.478671</td>\n",
       "      <td>31.116270</td>\n",
       "      <td>1.271203e-06</td>\n",
       "      <td>1.000000</td>\n",
       "      <td>1.000000</td>\n",
       "    </tr>\n",
       "    <tr>\n",
       "      <th>9</th>\n",
       "      <td>-2.579438</td>\n",
       "      <td>107.418327</td>\n",
       "      <td>-1.423401e-05</td>\n",
       "      <td>1.000000</td>\n",
       "      <td>1.000000</td>\n",
       "    </tr>\n",
       "    <tr>\n",
       "      <th>10</th>\n",
       "      <td>-3.889446</td>\n",
       "      <td>44.104752</td>\n",
       "      <td>2.831763e-05</td>\n",
       "      <td>1.000000</td>\n",
       "      <td>1.000000</td>\n",
       "    </tr>\n",
       "    <tr>\n",
       "      <th>11</th>\n",
       "      <td>-28.231314</td>\n",
       "      <td>28.973387</td>\n",
       "      <td>-9.022600e-06</td>\n",
       "      <td>0.999999</td>\n",
       "      <td>1.000000</td>\n",
       "    </tr>\n",
       "    <tr>\n",
       "      <th>12</th>\n",
       "      <td>-4.348122</td>\n",
       "      <td>12.659002</td>\n",
       "      <td>7.216623e-05</td>\n",
       "      <td>0.999998</td>\n",
       "      <td>0.999999</td>\n",
       "    </tr>\n",
       "    <tr>\n",
       "      <th>13</th>\n",
       "      <td>-8.657619</td>\n",
       "      <td>20.028175</td>\n",
       "      <td>-4.262319e-05</td>\n",
       "      <td>1.000000</td>\n",
       "      <td>1.000000</td>\n",
       "    </tr>\n",
       "    <tr>\n",
       "      <th>14</th>\n",
       "      <td>-9.280838</td>\n",
       "      <td>22.600286</td>\n",
       "      <td>-1.560837e-05</td>\n",
       "      <td>1.000000</td>\n",
       "      <td>1.000000</td>\n",
       "    </tr>\n",
       "    <tr>\n",
       "      <th>15</th>\n",
       "      <td>-7.651785</td>\n",
       "      <td>11.650007</td>\n",
       "      <td>3.231727e-05</td>\n",
       "      <td>1.000001</td>\n",
       "      <td>1.000000</td>\n",
       "    </tr>\n",
       "    <tr>\n",
       "      <th>16</th>\n",
       "      <td>-3.873574</td>\n",
       "      <td>5.638237</td>\n",
       "      <td>-3.975325e-05</td>\n",
       "      <td>0.999999</td>\n",
       "      <td>1.000000</td>\n",
       "    </tr>\n",
       "    <tr>\n",
       "      <th>17</th>\n",
       "      <td>-10.178640</td>\n",
       "      <td>10.680363</td>\n",
       "      <td>-1.287710e-05</td>\n",
       "      <td>1.000000</td>\n",
       "      <td>1.000000</td>\n",
       "    </tr>\n",
       "    <tr>\n",
       "      <th>18</th>\n",
       "      <td>-8.415601</td>\n",
       "      <td>10.266230</td>\n",
       "      <td>-1.357901e-05</td>\n",
       "      <td>1.000000</td>\n",
       "      <td>1.000000</td>\n",
       "    </tr>\n",
       "    <tr>\n",
       "      <th>19</th>\n",
       "      <td>-3.314647</td>\n",
       "      <td>5.083258</td>\n",
       "      <td>-5.981771e-06</td>\n",
       "      <td>1.000000</td>\n",
       "      <td>1.000000</td>\n",
       "    </tr>\n",
       "    <tr>\n",
       "      <th>20</th>\n",
       "      <td>-6.292255</td>\n",
       "      <td>10.098166</td>\n",
       "      <td>-2.854208e-05</td>\n",
       "      <td>1.000000</td>\n",
       "      <td>1.000000</td>\n",
       "    </tr>\n",
       "    <tr>\n",
       "      <th>21</th>\n",
       "      <td>-4.748448</td>\n",
       "      <td>6.489413</td>\n",
       "      <td>-3.632077e-05</td>\n",
       "      <td>1.000000</td>\n",
       "      <td>1.000000</td>\n",
       "    </tr>\n",
       "    <tr>\n",
       "      <th>22</th>\n",
       "      <td>-3.714981</td>\n",
       "      <td>4.314824</td>\n",
       "      <td>-1.459948e-05</td>\n",
       "      <td>1.000000</td>\n",
       "      <td>1.000000</td>\n",
       "    </tr>\n",
       "    <tr>\n",
       "      <th>23</th>\n",
       "      <td>-6.972309</td>\n",
       "      <td>8.006768</td>\n",
       "      <td>3.125358e-05</td>\n",
       "      <td>1.000000</td>\n",
       "      <td>1.000000</td>\n",
       "    </tr>\n",
       "    <tr>\n",
       "      <th>24</th>\n",
       "      <td>-5.092102</td>\n",
       "      <td>9.084232</td>\n",
       "      <td>3.409434e-05</td>\n",
       "      <td>1.000000</td>\n",
       "      <td>1.000000</td>\n",
       "    </tr>\n",
       "    <tr>\n",
       "      <th>25</th>\n",
       "      <td>-3.676295</td>\n",
       "      <td>5.347103</td>\n",
       "      <td>-9.156278e-06</td>\n",
       "      <td>1.000000</td>\n",
       "      <td>1.000000</td>\n",
       "    </tr>\n",
       "    <tr>\n",
       "      <th>26</th>\n",
       "      <td>-3.626004</td>\n",
       "      <td>4.974431</td>\n",
       "      <td>-1.924653e-05</td>\n",
       "      <td>1.000000</td>\n",
       "      <td>1.000000</td>\n",
       "    </tr>\n",
       "    <tr>\n",
       "      <th>27</th>\n",
       "      <td>-4.498264</td>\n",
       "      <td>7.592274</td>\n",
       "      <td>9.353528e-06</td>\n",
       "      <td>0.999999</td>\n",
       "      <td>0.999999</td>\n",
       "    </tr>\n",
       "    <tr>\n",
       "      <th>28</th>\n",
       "      <td>-4.651484</td>\n",
       "      <td>8.595118</td>\n",
       "      <td>-1.567790e-05</td>\n",
       "      <td>0.999998</td>\n",
       "      <td>0.999999</td>\n",
       "    </tr>\n",
       "    <tr>\n",
       "      <th>29</th>\n",
       "      <td>-4.623144</td>\n",
       "      <td>4.625283</td>\n",
       "      <td>1.379396e-05</td>\n",
       "      <td>1.000000</td>\n",
       "      <td>1.000000</td>\n",
       "    </tr>\n",
       "    <tr>\n",
       "      <th>...</th>\n",
       "      <td>...</td>\n",
       "      <td>...</td>\n",
       "      <td>...</td>\n",
       "      <td>...</td>\n",
       "      <td>...</td>\n",
       "    </tr>\n",
       "    <tr>\n",
       "      <th>98</th>\n",
       "      <td>-4.803656</td>\n",
       "      <td>5.233791</td>\n",
       "      <td>-3.263824e-05</td>\n",
       "      <td>1.000036</td>\n",
       "      <td>1.000018</td>\n",
       "    </tr>\n",
       "    <tr>\n",
       "      <th>99</th>\n",
       "      <td>-4.796972</td>\n",
       "      <td>6.806332</td>\n",
       "      <td>-1.187562e-05</td>\n",
       "      <td>1.000037</td>\n",
       "      <td>1.000018</td>\n",
       "    </tr>\n",
       "    <tr>\n",
       "      <th>100</th>\n",
       "      <td>-5.471037</td>\n",
       "      <td>5.749599</td>\n",
       "      <td>2.395152e-05</td>\n",
       "      <td>1.000069</td>\n",
       "      <td>1.000034</td>\n",
       "    </tr>\n",
       "    <tr>\n",
       "      <th>101</th>\n",
       "      <td>-4.767917</td>\n",
       "      <td>9.160579</td>\n",
       "      <td>7.948057e-05</td>\n",
       "      <td>1.000035</td>\n",
       "      <td>1.000018</td>\n",
       "    </tr>\n",
       "    <tr>\n",
       "      <th>102</th>\n",
       "      <td>-4.437242</td>\n",
       "      <td>4.770136</td>\n",
       "      <td>1.169980e-05</td>\n",
       "      <td>1.000057</td>\n",
       "      <td>1.000029</td>\n",
       "    </tr>\n",
       "    <tr>\n",
       "      <th>103</th>\n",
       "      <td>-5.527982</td>\n",
       "      <td>5.668870</td>\n",
       "      <td>4.235068e-05</td>\n",
       "      <td>1.000118</td>\n",
       "      <td>1.000059</td>\n",
       "    </tr>\n",
       "    <tr>\n",
       "      <th>104</th>\n",
       "      <td>-5.886366</td>\n",
       "      <td>6.534497</td>\n",
       "      <td>2.669492e-05</td>\n",
       "      <td>1.000093</td>\n",
       "      <td>1.000047</td>\n",
       "    </tr>\n",
       "    <tr>\n",
       "      <th>105</th>\n",
       "      <td>-4.690235</td>\n",
       "      <td>5.939205</td>\n",
       "      <td>7.307059e-07</td>\n",
       "      <td>1.000091</td>\n",
       "      <td>1.000045</td>\n",
       "    </tr>\n",
       "    <tr>\n",
       "      <th>106</th>\n",
       "      <td>-5.248537</td>\n",
       "      <td>5.803007</td>\n",
       "      <td>6.995581e-05</td>\n",
       "      <td>1.000109</td>\n",
       "      <td>1.000054</td>\n",
       "    </tr>\n",
       "    <tr>\n",
       "      <th>107</th>\n",
       "      <td>-4.693144</td>\n",
       "      <td>5.263712</td>\n",
       "      <td>7.839198e-06</td>\n",
       "      <td>1.000211</td>\n",
       "      <td>1.000106</td>\n",
       "    </tr>\n",
       "    <tr>\n",
       "      <th>108</th>\n",
       "      <td>-4.446445</td>\n",
       "      <td>5.141511</td>\n",
       "      <td>1.159046e-05</td>\n",
       "      <td>1.000178</td>\n",
       "      <td>1.000089</td>\n",
       "    </tr>\n",
       "    <tr>\n",
       "      <th>109</th>\n",
       "      <td>-4.576005</td>\n",
       "      <td>4.955711</td>\n",
       "      <td>3.726972e-05</td>\n",
       "      <td>1.000242</td>\n",
       "      <td>1.000121</td>\n",
       "    </tr>\n",
       "    <tr>\n",
       "      <th>110</th>\n",
       "      <td>-4.499652</td>\n",
       "      <td>5.185864</td>\n",
       "      <td>-2.829955e-05</td>\n",
       "      <td>1.000430</td>\n",
       "      <td>1.000215</td>\n",
       "    </tr>\n",
       "    <tr>\n",
       "      <th>111</th>\n",
       "      <td>-5.484620</td>\n",
       "      <td>5.860832</td>\n",
       "      <td>3.650419e-05</td>\n",
       "      <td>1.000912</td>\n",
       "      <td>1.000456</td>\n",
       "    </tr>\n",
       "    <tr>\n",
       "      <th>112</th>\n",
       "      <td>-6.084000</td>\n",
       "      <td>7.045650</td>\n",
       "      <td>4.643057e-06</td>\n",
       "      <td>1.000768</td>\n",
       "      <td>1.000384</td>\n",
       "    </tr>\n",
       "    <tr>\n",
       "      <th>113</th>\n",
       "      <td>-4.270318</td>\n",
       "      <td>4.737809</td>\n",
       "      <td>-2.594685e-05</td>\n",
       "      <td>1.000714</td>\n",
       "      <td>1.000357</td>\n",
       "    </tr>\n",
       "    <tr>\n",
       "      <th>114</th>\n",
       "      <td>-4.730722</td>\n",
       "      <td>6.469881</td>\n",
       "      <td>4.331651e-05</td>\n",
       "      <td>1.000356</td>\n",
       "      <td>1.000178</td>\n",
       "    </tr>\n",
       "    <tr>\n",
       "      <th>115</th>\n",
       "      <td>-4.503868</td>\n",
       "      <td>7.394927</td>\n",
       "      <td>6.319353e-06</td>\n",
       "      <td>1.000624</td>\n",
       "      <td>1.000312</td>\n",
       "    </tr>\n",
       "    <tr>\n",
       "      <th>116</th>\n",
       "      <td>-4.831884</td>\n",
       "      <td>5.880946</td>\n",
       "      <td>-3.147207e-05</td>\n",
       "      <td>1.001044</td>\n",
       "      <td>1.000522</td>\n",
       "    </tr>\n",
       "    <tr>\n",
       "      <th>117</th>\n",
       "      <td>-4.821770</td>\n",
       "      <td>6.375175</td>\n",
       "      <td>-1.794632e-05</td>\n",
       "      <td>1.000349</td>\n",
       "      <td>1.000174</td>\n",
       "    </tr>\n",
       "    <tr>\n",
       "      <th>118</th>\n",
       "      <td>-5.354389</td>\n",
       "      <td>7.249437</td>\n",
       "      <td>6.323222e-05</td>\n",
       "      <td>1.000530</td>\n",
       "      <td>1.000265</td>\n",
       "    </tr>\n",
       "    <tr>\n",
       "      <th>119</th>\n",
       "      <td>-5.534744</td>\n",
       "      <td>6.718724</td>\n",
       "      <td>-5.300568e-05</td>\n",
       "      <td>1.000474</td>\n",
       "      <td>1.000237</td>\n",
       "    </tr>\n",
       "    <tr>\n",
       "      <th>120</th>\n",
       "      <td>-4.510811</td>\n",
       "      <td>5.889211</td>\n",
       "      <td>8.167694e-05</td>\n",
       "      <td>1.001402</td>\n",
       "      <td>1.000701</td>\n",
       "    </tr>\n",
       "    <tr>\n",
       "      <th>121</th>\n",
       "      <td>-5.343452</td>\n",
       "      <td>5.489772</td>\n",
       "      <td>-5.088688e-05</td>\n",
       "      <td>1.000799</td>\n",
       "      <td>1.000399</td>\n",
       "    </tr>\n",
       "    <tr>\n",
       "      <th>122</th>\n",
       "      <td>-4.663509</td>\n",
       "      <td>6.325821</td>\n",
       "      <td>-1.991665e-05</td>\n",
       "      <td>1.001615</td>\n",
       "      <td>1.000807</td>\n",
       "    </tr>\n",
       "    <tr>\n",
       "      <th>123</th>\n",
       "      <td>-5.215246</td>\n",
       "      <td>5.922290</td>\n",
       "      <td>-6.084764e-05</td>\n",
       "      <td>1.002376</td>\n",
       "      <td>1.001187</td>\n",
       "    </tr>\n",
       "    <tr>\n",
       "      <th>124</th>\n",
       "      <td>-3.999403</td>\n",
       "      <td>7.041577</td>\n",
       "      <td>3.333631e-05</td>\n",
       "      <td>1.001300</td>\n",
       "      <td>1.000650</td>\n",
       "    </tr>\n",
       "    <tr>\n",
       "      <th>125</th>\n",
       "      <td>-5.486322</td>\n",
       "      <td>5.510351</td>\n",
       "      <td>1.532590e-06</td>\n",
       "      <td>1.001690</td>\n",
       "      <td>1.000845</td>\n",
       "    </tr>\n",
       "    <tr>\n",
       "      <th>126</th>\n",
       "      <td>-5.366914</td>\n",
       "      <td>6.570800</td>\n",
       "      <td>-5.056018e-05</td>\n",
       "      <td>1.002249</td>\n",
       "      <td>1.001124</td>\n",
       "    </tr>\n",
       "    <tr>\n",
       "      <th>127</th>\n",
       "      <td>-4.667064</td>\n",
       "      <td>5.302031</td>\n",
       "      <td>4.295580e-05</td>\n",
       "      <td>1.002605</td>\n",
       "      <td>1.001302</td>\n",
       "    </tr>\n",
       "  </tbody>\n",
       "</table>\n",
       "<p>128 rows × 5 columns</p>\n",
       "</div>"
      ],
      "text/plain": [
       "           min         max          mean       var       std\n",
       "0    -0.574633   41.597698 -4.917632e-05  1.000000  1.000000\n",
       "1    -2.780210    3.978084  5.422672e-06  1.000000  1.000000\n",
       "2    -1.726571    1.865569 -1.139231e-06  1.000000  1.000000\n",
       "3    -2.432777    6.199375  7.940363e-06  1.000001  1.000000\n",
       "4    -1.755595   26.344355 -8.627016e-06  1.000001  1.000000\n",
       "5    -2.926489   12.037609  3.764527e-05  1.000001  1.000001\n",
       "6    -5.483139    7.033047  6.146722e-05  1.000001  1.000001\n",
       "7    -4.503137    6.839056  6.820387e-05  1.000000  1.000000\n",
       "8    -4.478671   31.116270  1.271203e-06  1.000000  1.000000\n",
       "9    -2.579438  107.418327 -1.423401e-05  1.000000  1.000000\n",
       "10   -3.889446   44.104752  2.831763e-05  1.000000  1.000000\n",
       "11  -28.231314   28.973387 -9.022600e-06  0.999999  1.000000\n",
       "12   -4.348122   12.659002  7.216623e-05  0.999998  0.999999\n",
       "13   -8.657619   20.028175 -4.262319e-05  1.000000  1.000000\n",
       "14   -9.280838   22.600286 -1.560837e-05  1.000000  1.000000\n",
       "15   -7.651785   11.650007  3.231727e-05  1.000001  1.000000\n",
       "16   -3.873574    5.638237 -3.975325e-05  0.999999  1.000000\n",
       "17  -10.178640   10.680363 -1.287710e-05  1.000000  1.000000\n",
       "18   -8.415601   10.266230 -1.357901e-05  1.000000  1.000000\n",
       "19   -3.314647    5.083258 -5.981771e-06  1.000000  1.000000\n",
       "20   -6.292255   10.098166 -2.854208e-05  1.000000  1.000000\n",
       "21   -4.748448    6.489413 -3.632077e-05  1.000000  1.000000\n",
       "22   -3.714981    4.314824 -1.459948e-05  1.000000  1.000000\n",
       "23   -6.972309    8.006768  3.125358e-05  1.000000  1.000000\n",
       "24   -5.092102    9.084232  3.409434e-05  1.000000  1.000000\n",
       "25   -3.676295    5.347103 -9.156278e-06  1.000000  1.000000\n",
       "26   -3.626004    4.974431 -1.924653e-05  1.000000  1.000000\n",
       "27   -4.498264    7.592274  9.353528e-06  0.999999  0.999999\n",
       "28   -4.651484    8.595118 -1.567790e-05  0.999998  0.999999\n",
       "29   -4.623144    4.625283  1.379396e-05  1.000000  1.000000\n",
       "..         ...         ...           ...       ...       ...\n",
       "98   -4.803656    5.233791 -3.263824e-05  1.000036  1.000018\n",
       "99   -4.796972    6.806332 -1.187562e-05  1.000037  1.000018\n",
       "100  -5.471037    5.749599  2.395152e-05  1.000069  1.000034\n",
       "101  -4.767917    9.160579  7.948057e-05  1.000035  1.000018\n",
       "102  -4.437242    4.770136  1.169980e-05  1.000057  1.000029\n",
       "103  -5.527982    5.668870  4.235068e-05  1.000118  1.000059\n",
       "104  -5.886366    6.534497  2.669492e-05  1.000093  1.000047\n",
       "105  -4.690235    5.939205  7.307059e-07  1.000091  1.000045\n",
       "106  -5.248537    5.803007  6.995581e-05  1.000109  1.000054\n",
       "107  -4.693144    5.263712  7.839198e-06  1.000211  1.000106\n",
       "108  -4.446445    5.141511  1.159046e-05  1.000178  1.000089\n",
       "109  -4.576005    4.955711  3.726972e-05  1.000242  1.000121\n",
       "110  -4.499652    5.185864 -2.829955e-05  1.000430  1.000215\n",
       "111  -5.484620    5.860832  3.650419e-05  1.000912  1.000456\n",
       "112  -6.084000    7.045650  4.643057e-06  1.000768  1.000384\n",
       "113  -4.270318    4.737809 -2.594685e-05  1.000714  1.000357\n",
       "114  -4.730722    6.469881  4.331651e-05  1.000356  1.000178\n",
       "115  -4.503868    7.394927  6.319353e-06  1.000624  1.000312\n",
       "116  -4.831884    5.880946 -3.147207e-05  1.001044  1.000522\n",
       "117  -4.821770    6.375175 -1.794632e-05  1.000349  1.000174\n",
       "118  -5.354389    7.249437  6.323222e-05  1.000530  1.000265\n",
       "119  -5.534744    6.718724 -5.300568e-05  1.000474  1.000237\n",
       "120  -4.510811    5.889211  8.167694e-05  1.001402  1.000701\n",
       "121  -5.343452    5.489772 -5.088688e-05  1.000799  1.000399\n",
       "122  -4.663509    6.325821 -1.991665e-05  1.001615  1.000807\n",
       "123  -5.215246    5.922290 -6.084764e-05  1.002376  1.001187\n",
       "124  -3.999403    7.041577  3.333631e-05  1.001300  1.000650\n",
       "125  -5.486322    5.510351  1.532590e-06  1.001690  1.000845\n",
       "126  -5.366914    6.570800 -5.056018e-05  1.002249  1.001124\n",
       "127  -4.667064    5.302031  4.295580e-05  1.002605  1.001302\n",
       "\n",
       "[128 rows x 5 columns]"
      ]
     },
     "execution_count": 12,
     "metadata": {},
     "output_type": "execute_result"
    }
   ],
   "source": [
    "import pandas as pd\n",
    "m_tensor = torch.stack([dim_reduced[i] for i in dim_reduced.keys()])\n",
    "describe = pd.DataFrame({'min': [m_tensor[:,i].min().item() for i in range(m_tensor.size(1))],\n",
    "           'max': [m_tensor[:,i].max().item() for i in range(m_tensor.size(1))],\n",
    "           'mean': [m_tensor[:,i].mean().item() for i in range(m_tensor.size(1))],\n",
    "           'var': [m_tensor[:,i].var().item() for i in range(m_tensor.size(1))],\n",
    "           'std': [m_tensor[:,i].std().item() for i in range(m_tensor.size(1))],\n",
    "          }, index=[str(i) for i in range(m_tensor.size(1))])\n",
    "describe"
   ]
  },
  {
   "cell_type": "code",
   "execution_count": 13,
   "metadata": {},
   "outputs": [
    {
     "data": {
      "image/png": "[encoded data removed]",
      "text/plain": [
       "<Figure size 1152x648 with 1 Axes>"
      ]
     },
     "metadata": {},
     "output_type": "display_data"
    }
   ],
   "source": [
    "import seaborn as sns\n",
    "sns.set(rc={'figure.figsize':(16, 9)})\n",
    "sns.distplot(m_tensor[:,0], hist=False, rug=False);"
   ]
  },
  {
   "cell_type": "code",
   "execution_count": 14,
   "metadata": {},
   "outputs": [
    {
     "data": {
      "image/png": "[encoded data removed]",
      "text/plain": [
       "<Figure size 1152x648 with 1 Axes>"
      ]
     },
     "metadata": {},
     "output_type": "display_data"
    }
   ],
   "source": [
    "sns.distplot(m_tensor[:,2], hist=False, rug=True);"
   ]
  },
  {
   "cell_type": "code",
   "execution_count": 15,
   "metadata": {},
   "outputs": [
    {
     "data": {
      "image/png": "[encoded data removed]",
      "text/plain": [
       "<Figure size 1152x648 with 1 Axes>"
      ]
     },
     "metadata": {},
     "output_type": "display_data"
    }
   ],
   "source": [
    "sns.distplot(m_tensor[:,3], hist=False, rug=False);"
   ]
  },
  {
   "cell_type": "code",
   "execution_count": 16,
   "metadata": {},
   "outputs": [
    {
     "data": {
      "image/png": "[encoded data removed]",
      "text/plain": [
       "<Figure size 1152x648 with 1 Axes>"
      ]
     },
     "metadata": {},
     "output_type": "display_data"
    }
   ],
   "source": [
    "sns.distplot(m_tensor[:,4], hist=False, rug=False);"
   ]
  },
  {
   "cell_type": "code",
   "execution_count": 17,
   "metadata": {},
   "outputs": [
    {
     "data": {
      "text/plain": [
       "<matplotlib.image.AxesImage at 0x7f775f1dbef0>"
      ]
     },
     "execution_count": 17,
     "metadata": {},
     "output_type": "execute_result"
    },
    {
     "data": {
      "image/png": "[encoded data removed]",
      "text/plain": [
       "<Figure size 746.208x288 with 1 Axes>"
      ]
     },
     "metadata": {
      "needs_background": "light"
     },
     "output_type": "display_data"
    }
   ],
   "source": [
    "import matplotlib.pyplot as plt\n",
    "%matplotlib inline\n",
    "plt.matshow(pca.get_covariance()[:1000])"
   ]
  },
  {
   "cell_type": "code",
   "execution_count": 18,
   "metadata": {},
   "outputs": [
    {
     "data": {
      "text/plain": [
       "<matplotlib.image.AxesImage at 0x7f775f1be4a8>"
      ]
     },
     "execution_count": 18,
     "metadata": {},
     "output_type": "execute_result"
    },
    {
     "data": {
      "image/png": "[encoded data removed]",
      "text/plain": [
       "<Figure size 288x288 with 1 Axes>"
      ]
     },
     "metadata": {
      "needs_background": "light"
     },
     "output_type": "display_data"
    }
   ],
   "source": [
    "plt.matshow(pca.get_precision())"
   ]
  },
  {
   "cell_type": "code",
   "execution_count": 19,
   "metadata": {},
   "outputs": [
    {
     "data": {
      "text/plain": [
       "StandardScaler(copy=True, with_mean=True, with_std=True)"
      ]
     },
     "execution_count": 19,
     "metadata": {},
     "output_type": "execute_result"
    }
   ],
   "source": [
    "from sklearn.preprocessing import StandardScaler\n",
    "scaler = StandardScaler()\n",
    "scaler.fit(np.stack(list(dim_reduced.values())))"
   ]
  },
  {
   "cell_type": "code",
   "execution_count": 20,
   "metadata": {},
   "outputs": [
    {
     "data": {
      "application/vnd.jupyter.widget-view+json": {
       "model_id": "c529a7b7d45c4416ab30d6594c3935f3",
       "version_major": 2,
       "version_minor": 0
      },
      "text/plain": [
       "HBox(children=(IntProgress(value=0, max=27278), HTML(value='')))"
      ]
     },
     "metadata": {},
     "output_type": "display_data"
    },
    {
     "name": "stdout",
     "output_type": "stream",
     "text": [
      "\n"
     ]
    }
   ],
   "source": [
    "for k,v in tqdm(dim_reduced.items()):\n",
    "    v = v.numpy()\n",
    "    dim_reduced[k] = torch.from_numpy(scaler.transform(v.reshape(1, -1))).squeeze()"
   ]
  },
  {
   "cell_type": "code",
   "execution_count": 21,
   "metadata": {},
   "outputs": [],
   "source": [
    "pickle.dump(dim_reduced,  open( \"../data/infos_pca128.pytorch\", \"wb\"))"
   ]
  },
  {
   "cell_type": "code",
   "execution_count": 23,
   "metadata": {},
   "outputs": [
    {
     "data": {
      "text/plain": [
       "tensor([-0.1361, -1.9331,  0.9861, -0.8622,  4.0953,  2.5092, -0.9467,  2.1788,\n",
       "        -0.2767,  0.5083, -0.1450, -2.2773, -0.7664,  1.6212,  0.7044, -0.4825,\n",
       "        -0.2094, -3.4571, -3.0825,  0.6786,  2.4919, -2.3061, -1.0849, -0.8408,\n",
       "        -1.0931,  0.4922, -0.0387,  0.4631,  0.6424,  1.4222, -1.6180,  0.5179,\n",
       "        -0.5545,  0.7725, -0.4020, -0.2379, -1.8765,  1.0915, -0.4529, -0.7152,\n",
       "         0.3837,  0.2455,  0.6587,  0.1930,  0.2257, -0.4407,  1.2846, -0.9510,\n",
       "        -1.3969, -0.0456,  0.0663, -0.6870, -0.6495, -0.5222,  0.5640, -0.1670,\n",
       "        -0.2647, -0.8965, -0.5680, -0.3369, -0.6854, -1.7797,  0.1051, -0.8858,\n",
       "        -0.7798,  1.6941, -1.0239, -1.1634,  0.2473,  0.8673,  2.3705,  1.7088,\n",
       "        -0.5577, -1.8326, -0.8962, -0.7143, -0.1031,  0.3045, -0.4891,  1.1883,\n",
       "        -0.4527,  0.6873,  0.0566,  0.0199,  0.2116, -0.3783,  0.7228,  0.9463,\n",
       "         1.1160,  0.9180,  0.4322,  0.2056, -1.2500,  1.4742,  0.6295,  1.2527,\n",
       "        -0.4544,  1.4560, -0.6331, -1.7074,  0.9403, -1.0039,  1.2297, -0.7241,\n",
       "         0.0269, -0.6434,  1.4947,  1.5214,  0.2077,  1.1312,  1.0173,  0.3437,\n",
       "         1.4997,  0.5606,  1.4313, -0.1446,  1.6423, -1.0609,  0.0949, -1.9513,\n",
       "        -0.6143, -1.1313, -0.7663, -1.0196, -1.3201,  0.1451,  0.7898,  1.3301])"
      ]
     },
     "execution_count": 23,
     "metadata": {},
     "output_type": "execute_result"
    }
   ],
   "source": [
    "dim_reduced[1]"
   ]
  },
  {
   "cell_type": "code",
   "execution_count": null,
   "metadata": {},
   "outputs": [],
   "source": []
  }
 ],
 "metadata": {
  "kernelspec": {
   "display_name": "Python 3",
   "language": "python",
   "name": "python3"
  },
  "language_info": {
   "codemirror_mode": {
    "name": "ipython",
    "version": 3
   },
   "file_extension": ".py",
   "mimetype": "text/x-python",
   "name": "python",
   "nbconvert_exporter": "python",
   "pygments_lexer": "ipython3",
   "version": "3.7.3"
  }
 },
 "nbformat": 4,
 "nbformat_minor": 2
}
