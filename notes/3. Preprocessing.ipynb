{
 "cells": [
  {
   "cell_type": "markdown",
   "metadata": {},
   "source": [
    "# Text preprocessing"
   ]
  },
  {
   "cell_type": "markdown",
   "metadata": {},
   "source": [
    "## Google's BERT"
   ]
  },
  {
   "cell_type": "code",
   "execution_count": 1,
   "metadata": {},
   "outputs": [
    {
     "name": "stdout",
     "output_type": "stream",
     "text": [
      "Better speed can be achieved with apex installed from https://www.github.com/nvidia/apex.\n"
     ]
    }
   ],
   "source": [
    "import pandas as pd\n",
    "import pickle\n",
    "from pytorch_pretrained_bert import BertTokenizer, BertModel\n",
    "import torch\n",
    "from tqdm import tqdm_notebook as tqdm"
   ]
  },
  {
   "cell_type": "code",
   "execution_count": 2,
   "metadata": {},
   "outputs": [],
   "source": [
    "# Model imports\n",
    "cuda = torch.device('cuda')\n",
    "bert = BertModel.from_pretrained('bert-base-uncased').to(cuda)\n",
    "bert.eval()\n",
    "\n",
    "tokenizer = BertTokenizer.from_pretrained('bert-base-uncased')"
   ]
  },
  {
   "cell_type": "code",
   "execution_count": 3,
   "metadata": {},
   "outputs": [],
   "source": [
    "infos = pickle.load(open('../data/infos.p', 'rb'))"
   ]
  },
  {
   "cell_type": "code",
   "execution_count": 4,
   "metadata": {},
   "outputs": [
    {
     "data": {
      "text/plain": [
       "{'adult': False,\n",
       " 'collection': 10194,\n",
       " 'genres': [16, 35, 10751],\n",
       " 'original_language': 'en',\n",
       " 'overview': \"Led by Woody, Andy's toys live happily in his room until Andy's birthday brings Buzz Lightyear onto the scene. Afraid of losing his place in Andy's heart, Woody plots against Buzz. But when circumstances separate Buzz and Woody from their owner, the duo eventually learns to put aside their differences.\",\n",
       " 'popularity': 25.398,\n",
       " 'production_companies': [3],\n",
       " 'production_countries': ['us'],\n",
       " 'release_year': 1995,\n",
       " 'release_month': 10,\n",
       " 'revenue': 373554033,\n",
       " 'runtime': 81,\n",
       " 'spoken_languages': ['en'],\n",
       " 'tagline': '',\n",
       " 'title': 'Toy Story',\n",
       " 'vote_average': 7.9,\n",
       " 'vote_count': 9787,\n",
       " 'budget': 30000000,\n",
       " 'revenue_d': 343554033}"
      ]
     },
     "execution_count": 4,
     "metadata": {},
     "output_type": "execute_result"
    }
   ],
   "source": [
    "infos[1]"
   ]
  },
  {
   "cell_type": "code",
   "execution_count": 5,
   "metadata": {},
   "outputs": [
    {
     "data": {
      "application/vnd.jupyter.widget-view+json": {
       "model_id": "bea324b6a76f4567a7352bb53d3025b2",
       "version_major": 2,
       "version_minor": 0
      },
      "text/plain": [
       "HBox(children=(IntProgress(value=0, max=27278), HTML(value='')))"
      ]
     },
     "metadata": {},
     "output_type": "display_data"
    },
    {
     "name": "stdout",
     "output_type": "stream",
     "text": [
      "\n"
     ]
    }
   ],
   "source": [
    "infos_tensor = {}\n",
    "for k,v in tqdm(infos.items()):\n",
    "    v = (v['overview'] + v['tagline'] + v['title'])[:512]\n",
    "    v = tokenizer.tokenize(v)\n",
    "    v = tokenizer.convert_tokens_to_ids(v)\n",
    "    v = torch.tensor(v).to(cuda)\n",
    "    infos_tensor[k] = v"
   ]
  },
  {
   "cell_type": "code",
   "execution_count": 6,
   "metadata": {},
   "outputs": [],
   "source": [
    "from collections import OrderedDict\n",
    "infos_sorted = OrderedDict(sorted(infos_tensor.items(), key=lambda t: t[1].size()))"
   ]
  },
  {
   "cell_type": "code",
   "execution_count": 7,
   "metadata": {},
   "outputs": [
    {
     "data": {
      "application/vnd.jupyter.widget-view+json": {
       "model_id": "a959831f4b7d4d23b5b23e14eee089a8",
       "version_major": 2,
       "version_minor": 0
      },
      "text/plain": [
       "HBox(children=(IntProgress(value=0, max=27278), HTML(value='')))"
      ]
     },
     "metadata": {},
     "output_type": "display_data"
    },
    {
     "name": "stderr",
     "output_type": "stream",
     "text": [
      "/home/dev/anaconda3/lib/python3.7/site-packages/ipykernel_launcher.py:17: UserWarning: To copy construct from a tensor, it is recommended to use sourceTensor.clone().detach() or sourceTensor.clone().detach().requires_grad_(True), rather than torch.tensor(sourceTensor).\n"
     ]
    },
    {
     "name": "stdout",
     "output_type": "stream",
     "text": [
      "\n"
     ]
    }
   ],
   "source": [
    "infos_bert = {}\n",
    "batch = []\n",
    "indexes = []\n",
    "max_size = 0\n",
    "batch_size = 10\n",
    "\n",
    "for i in tqdm(range(len(infos_sorted))):\n",
    "    idx, tensor = infos_sorted.popitem()\n",
    "    batch.append(tensor)\n",
    "    indexes.append(idx)\n",
    "    \n",
    "    if len(batch) >= batch_size:\n",
    "        seq_lengths = torch.tensor([len(seq) for seq in batch]).long().cuda()\n",
    "        seq_tensor = torch.zeros((len(batch), seq_lengths.max())).long().cuda()\n",
    "        \n",
    "        for idx, (seq, seqlen) in enumerate(zip(batch, seq_lengths)):\n",
    "            seq_tensor[idx, :seqlen] = torch.tensor(seq).long().cuda()\n",
    "            \n",
    "        _, output = bert(seq_tensor)\n",
    "\n",
    "        output = output.detach().cpu()\n",
    "        for i in range(output.size(0)):\n",
    "            infos_bert[indexes[i]] = output[i]\n",
    "            \n",
    "        batch = []\n",
    "        indexes = []\n",
    "    "
   ]
  },
  {
   "cell_type": "code",
   "execution_count": 8,
   "metadata": {},
   "outputs": [
    {
     "name": "stderr",
     "output_type": "stream",
     "text": [
      "/home/dev/anaconda3/lib/python3.7/site-packages/ipykernel_launcher.py:5: UserWarning: To copy construct from a tensor, it is recommended to use sourceTensor.clone().detach() or sourceTensor.clone().detach().requires_grad_(True), rather than torch.tensor(sourceTensor).\n",
      "  \"\"\"\n"
     ]
    }
   ],
   "source": [
    "seq_lengths = torch.tensor([len(seq) for seq in batch]).long().cuda()\n",
    "seq_tensor = torch.zeros((len(batch), seq_lengths.max())).long().cuda()\n",
    "\n",
    "for idx, (seq, seqlen) in enumerate(zip(batch, seq_lengths)):\n",
    "    seq_tensor[idx, :seqlen] = torch.tensor(seq).long().cuda()\n",
    "            \n",
    "    _, output = bert(seq_tensor)\n",
    "\n",
    "    output = output.detach().cpu()\n",
    "    for i in range(output.size(0)):\n",
    "        infos_bert[indexes[i]] = output[i]"
   ]
  },
  {
   "cell_type": "code",
   "execution_count": 9,
   "metadata": {},
   "outputs": [],
   "source": [
    "pickle.dump(dict([(i[0], i[1].numpy()) for i in infos_bert.items()]),\n",
    "            open('../data/texts_bert.p', 'wb'))"
   ]
  },
  {
   "cell_type": "markdown",
   "metadata": {},
   "source": [
    "## GPT 2"
   ]
  },
  {
   "cell_type": "code",
   "execution_count": 1,
   "metadata": {},
   "outputs": [
    {
     "name": "stdout",
     "output_type": "stream",
     "text": [
      "Better speed can be achieved with apex installed from https://www.github.com/nvidia/apex.\n"
     ]
    }
   ],
   "source": [
    "import pandas as pd\n",
    "import pickle\n",
    "from pytorch_pretrained_bert import GPT2Tokenizer, GPT2Model\n",
    "import torch\n",
    "from tqdm import tqdm_notebook as tqdm"
   ]
  },
  {
   "cell_type": "code",
   "execution_count": 2,
   "metadata": {},
   "outputs": [],
   "source": [
    "cuda = torch.device('cuda')\n",
    "gpt2 = GPT2Model.from_pretrained('gpt2').to(cuda)\n",
    "gpt2.eval()\n",
    "\n",
    "tokenizer = GPT2Tokenizer.from_pretrained('gpt2')"
   ]
  },
  {
   "cell_type": "code",
   "execution_count": 3,
   "metadata": {},
   "outputs": [],
   "source": [
    "infos = pickle.load(open('../data/infos.p', 'rb'))"
   ]
  },
  {
   "cell_type": "code",
   "execution_count": 4,
   "metadata": {},
   "outputs": [
    {
     "data": {
      "application/vnd.jupyter.widget-view+json": {
       "model_id": "4fd388d0f9dc43f5b16badbc33878d64",
       "version_major": 2,
       "version_minor": 0
      },
      "text/plain": [
       "HBox(children=(IntProgress(value=0, max=27278), HTML(value='')))"
      ]
     },
     "metadata": {},
     "output_type": "display_data"
    },
    {
     "name": "stdout",
     "output_type": "stream",
     "text": [
      "\n"
     ]
    }
   ],
   "source": [
    "infos_tensor = {}\n",
    "for k,v in tqdm(infos.items()):\n",
    "    v = (v['overview'] + v['tagline'] + v['title'])[:512]\n",
    "    v = tokenizer.encode(v)\n",
    "    v = torch.tensor(v).to(cuda)\n",
    "    infos_tensor[k] = v"
   ]
  },
  {
   "cell_type": "code",
   "execution_count": 5,
   "metadata": {},
   "outputs": [],
   "source": [
    "from collections import OrderedDict\n",
    "infos_sorted = OrderedDict(sorted(infos_tensor.items(), key=lambda t: t[1].size()))"
   ]
  },
  {
   "cell_type": "code",
   "execution_count": 6,
   "metadata": {},
   "outputs": [
    {
     "data": {
      "application/vnd.jupyter.widget-view+json": {
       "model_id": "216a396b4e0744668948c5a5da78d741",
       "version_major": 2,
       "version_minor": 0
      },
      "text/plain": [
       "HBox(children=(IntProgress(value=0, max=27278), HTML(value='')))"
      ]
     },
     "metadata": {},
     "output_type": "display_data"
    },
    {
     "name": "stderr",
     "output_type": "stream",
     "text": [
      "/home/dev/anaconda3/lib/python3.7/site-packages/ipykernel_launcher.py:17: UserWarning: To copy construct from a tensor, it is recommended to use sourceTensor.clone().detach() or sourceTensor.clone().detach().requires_grad_(True), rather than torch.tensor(sourceTensor).\n"
     ]
    },
    {
     "name": "stdout",
     "output_type": "stream",
     "text": [
      "\n"
     ]
    }
   ],
   "source": [
    "infos_gpt2 = {}\n",
    "batch = []\n",
    "indexes = []\n",
    "max_size = 0\n",
    "batch_size = 5\n",
    "\n",
    "for i in tqdm(range(len(infos_sorted))):\n",
    "    idx, tensor = infos_sorted.popitem()\n",
    "    batch.append(tensor)\n",
    "    indexes.append(idx)\n",
    "    \n",
    "    if len(batch) >= batch_size:\n",
    "        seq_lengths = torch.tensor([len(seq) for seq in batch]).long().cuda()\n",
    "        seq_tensor = torch.zeros((len(batch), seq_lengths.max())).long().cuda()\n",
    "        \n",
    "        for idx, (seq, seqlen) in enumerate(zip(batch, seq_lengths)):\n",
    "            seq_tensor[idx, :seqlen] = torch.tensor(seq).long().cuda()\n",
    "            \n",
    "        output, _ = gpt2(seq_tensor)\n",
    "        output = output[:,-1]\n",
    "        output = output.detach().cpu()\n",
    "        for i in range(output.size(0)):\n",
    "            infos_gpt2[indexes[i]] = output[i]\n",
    "            \n",
    "        batch = []\n",
    "        indexes = []"
   ]
  },
  {
   "cell_type": "code",
   "execution_count": null,
   "metadata": {},
   "outputs": [],
   "source": [
    "seq_lengths = torch.tensor([len(seq) for seq in batch]).long().cuda()\n",
    "seq_tensor = torch.zeros((len(batch), seq_lengths.max())).long().cuda()\n",
    "\n",
    "for idx, (seq, seqlen) in enumerate(zip(batch, seq_lengths)):\n",
    "    seq_tensor[idx, :seqlen] = torch.tensor(seq).long().cuda()\n",
    "            \n",
    "    _, output = gpt2(seq_tensor)\n",
    "    \n",
    "    output = output[:,-1]\n",
    "    output = output.detach().cpu()\n",
    "    \n",
    "    for i in range(output.size(0)):\n",
    "        infos_gpt2[indexes[i]] = output[i]"
   ]
  },
  {
   "cell_type": "code",
   "execution_count": 7,
   "metadata": {},
   "outputs": [],
   "source": [
    "pickle.dump(dict([(i[0], i[1].numpy()) for i in infos_gpt2.items()]),\n",
    "            open('../data/texts_gpt2.p', 'wb'))"
   ]
  },
  {
   "cell_type": "markdown",
   "metadata": {},
   "source": [
    "# Label Encoding"
   ]
  },
  {
   "cell_type": "code",
   "execution_count": 1,
   "metadata": {},
   "outputs": [],
   "source": [
    "import pandas as pd\n",
    "import pickle"
   ]
  },
  {
   "cell_type": "code",
   "execution_count": 2,
   "metadata": {},
   "outputs": [],
   "source": [
    "infos = pickle.load(open('../data/infos.p', 'rb'))"
   ]
  },
  {
   "cell_type": "markdown",
   "metadata": {},
   "source": [
    "### Multilabel"
   ]
  },
  {
   "cell_type": "code",
   "execution_count": 3,
   "metadata": {},
   "outputs": [],
   "source": [
    "def multicat_label_encode(infos, col, trim=0):\n",
    "    col_sort = list()\n",
    "    [col_sort.extend(set(i[col])) for i in infos.values()]\n",
    "    col_sort = pd.Series(col_sort).value_counts().index.tolist()\n",
    "    if trim: col_sort = col_sort[:trim]\n",
    "    col_dict = dict([(k, idx) for idx, k in enumerate(col_sort)])\n",
    "    for i in infos.keys():\n",
    "        infos[i][col] = list(map(col_dict.get, infos[i][col]))\n",
    "    print(col, 'unique:', len(col_sort))"
   ]
  },
  {
   "cell_type": "code",
   "execution_count": 4,
   "metadata": {},
   "outputs": [
    {
     "name": "stdout",
     "output_type": "stream",
     "text": [
      "genres unique: 23\n",
      "production_countries unique: 151\n",
      "spoken_languages unique: 140\n",
      "production_companies unique: 500\n"
     ]
    }
   ],
   "source": [
    "multicat_label_encode(infos, 'genres')\n",
    "multicat_label_encode(infos, 'production_countries')\n",
    "multicat_label_encode(infos, 'spoken_languages')\n",
    "multicat_label_encode(infos, 'production_companies', 500)"
   ]
  },
  {
   "cell_type": "markdown",
   "metadata": {},
   "source": [
    "### Unilabel"
   ]
  },
  {
   "cell_type": "code",
   "execution_count": 5,
   "metadata": {},
   "outputs": [],
   "source": [
    "def label_encode(infos, col, trim=0):\n",
    "    col_sort = pd.Series([i[col] for i in infos.values()]).value_counts().index.tolist()\n",
    "    if trim: col_sort = col_sort[:trim]\n",
    "    col_dict = dict([(k, idx) for idx, k in enumerate(col_sort)])\n",
    "    for i in infos.keys():\n",
    "        infos[i][col] = col_dict.get(infos[i][col])\n",
    "    print(col, 'unique:', len(col_sort))"
   ]
  },
  {
   "cell_type": "code",
   "execution_count": 6,
   "metadata": {},
   "outputs": [
    {
     "name": "stdout",
     "output_type": "stream",
     "text": [
      "collection unique: 910\n",
      "original_language unique: 89\n"
     ]
    }
   ],
   "source": [
    "label_encode(infos, 'collection', 910)\n",
    "label_encode(infos, 'original_language')"
   ]
  },
  {
   "cell_type": "code",
   "execution_count": 7,
   "metadata": {},
   "outputs": [
    {
     "data": {
      "text/plain": [
       "{'adult': False,\n",
       " 'collection': 210,\n",
       " 'genres': [14, 1, 11],\n",
       " 'original_language': 0,\n",
       " 'overview': \"Led by Woody, Andy's toys live happily in his room until Andy's birthday brings Buzz Lightyear onto the scene. Afraid of losing his place in Andy's heart, Woody plots against Buzz. But when circumstances separate Buzz and Woody from their owner, the duo eventually learns to put aside their differences.\",\n",
       " 'popularity': 25.398,\n",
       " 'production_companies': [96],\n",
       " 'production_countries': [0],\n",
       " 'release_year': 1995,\n",
       " 'release_month': 10,\n",
       " 'revenue': 373554033,\n",
       " 'runtime': 81,\n",
       " 'spoken_languages': [0],\n",
       " 'tagline': '',\n",
       " 'title': 'Toy Story',\n",
       " 'vote_average': 7.9,\n",
       " 'vote_count': 9787,\n",
       " 'budget': 30000000,\n",
       " 'revenue_d': 343554033}"
      ]
     },
     "execution_count": 7,
     "metadata": {},
     "output_type": "execute_result"
    }
   ],
   "source": [
    "infos[1]"
   ]
  },
  {
   "cell_type": "markdown",
   "metadata": {},
   "source": [
    "## Standartization"
   ]
  },
  {
   "cell_type": "code",
   "execution_count": 8,
   "metadata": {},
   "outputs": [],
   "source": [
    "from sklearn import preprocessing\n",
    "import numpy as np\n",
    "import matplotlib.pyplot as plt\n",
    "%matplotlib inline\n",
    "\n",
    "from jupyterthemes import jtplot\n",
    "jtplot.style(theme='monokai')"
   ]
  },
  {
   "cell_type": "code",
   "execution_count": 9,
   "metadata": {},
   "outputs": [],
   "source": [
    "def standardize(infos, col, plot=True, bins=100):\n",
    "    scaler = preprocessing.StandardScaler()\n",
    "    a = np.array([i[col] or 0 for i in infos.values()])\n",
    "    if plot:\n",
    "        plt.subplot(2, 1, 1)\n",
    "        plt.hist(a, bins=bins)\n",
    "        plt.ylabel('Before')\n",
    "    a = a.reshape(-1, 1)\n",
    "    scaler = scaler.fit(a)\n",
    "    for i in infos.keys():\n",
    "        infos[i][col] = scaler.transform([[infos[i][col]]])[0,0]\n",
    "        \n",
    "    if plot:\n",
    "        plt.subplot(2, 1, 2)\n",
    "        plt.hist([i[col] for i in infos.values()], bins=bins)\n",
    "        plt.ylabel('After')\n",
    "        plt.show()"
   ]
  },
  {
   "cell_type": "code",
   "execution_count": 10,
   "metadata": {},
   "outputs": [
    {
     "name": "stderr",
     "output_type": "stream",
     "text": [
      "/home/dev/anaconda3/lib/python3.7/site-packages/sklearn/utils/validation.py:595: DataConversionWarning: Data with input dtype int64 was converted to float64 by StandardScaler.\n",
      "  warnings.warn(msg, DataConversionWarning)\n",
      "/home/dev/anaconda3/lib/python3.7/site-packages/numpy/lib/histograms.py:754: RuntimeWarning: invalid value encountered in greater_equal\n",
      "  keep = (tmp_a >= first_edge)\n",
      "/home/dev/anaconda3/lib/python3.7/site-packages/numpy/lib/histograms.py:755: RuntimeWarning: invalid value encountered in less_equal\n",
      "  keep &= (tmp_a <= last_edge)\n"
     ]
    },
    {
     "data": {
      "image/png": "[encoded data removed]",
      "text/plain": [
       "<Figure size 432x288 with 2 Axes>"
      ]
     },
     "metadata": {
      "needs_background": "dark"
     },
     "output_type": "display_data"
    }
   ],
   "source": [
    "standardize(infos, 'runtime')"
   ]
  },
  {
   "cell_type": "code",
   "execution_count": 11,
   "metadata": {},
   "outputs": [
    {
     "data": {
      "image/png": "[encoded data removed]",
      "text/plain": [
       "<Figure size 432x288 with 2 Axes>"
      ]
     },
     "metadata": {
      "needs_background": "dark"
     },
     "output_type": "display_data"
    }
   ],
   "source": [
    "standardize(infos, 'vote_average', bins=20)"
   ]
  },
  {
   "cell_type": "code",
   "execution_count": 12,
   "metadata": {},
   "outputs": [
    {
     "data": {
      "image/png": "[encoded data removed]",
      "text/plain": [
       "<Figure size 432x288 with 2 Axes>"
      ]
     },
     "metadata": {
      "needs_background": "dark"
     },
     "output_type": "display_data"
    }
   ],
   "source": [
    "standardize(infos, 'popularity', bins=50)"
   ]
  },
  {
   "cell_type": "code",
   "execution_count": 13,
   "metadata": {},
   "outputs": [
    {
     "name": "stderr",
     "output_type": "stream",
     "text": [
      "/home/dev/anaconda3/lib/python3.7/site-packages/sklearn/utils/validation.py:595: DataConversionWarning: Data with input dtype int64 was converted to float64 by StandardScaler.\n",
      "  warnings.warn(msg, DataConversionWarning)\n"
     ]
    },
    {
     "data": {
      "image/png": "[encoded data removed]",
      "text/plain": [
       "<Figure size 432x288 with 2 Axes>"
      ]
     },
     "metadata": {
      "needs_background": "dark"
     },
     "output_type": "display_data"
    }
   ],
   "source": [
    "standardize(infos, 'revenue', bins=50)"
   ]
  },
  {
   "cell_type": "code",
   "execution_count": 14,
   "metadata": {},
   "outputs": [
    {
     "name": "stderr",
     "output_type": "stream",
     "text": [
      "/home/dev/anaconda3/lib/python3.7/site-packages/sklearn/utils/validation.py:595: DataConversionWarning: Data with input dtype int64 was converted to float64 by StandardScaler.\n",
      "  warnings.warn(msg, DataConversionWarning)\n"
     ]
    },
    {
     "data": {
      "image/png": "[encoded data removed]",
      "text/plain": [
       "<Figure size 432x288 with 2 Axes>"
      ]
     },
     "metadata": {
      "needs_background": "dark"
     },
     "output_type": "display_data"
    }
   ],
   "source": [
    "standardize(infos, 'vote_count', bins=50)"
   ]
  },
  {
   "cell_type": "code",
   "execution_count": 15,
   "metadata": {},
   "outputs": [
    {
     "name": "stderr",
     "output_type": "stream",
     "text": [
      "/home/dev/anaconda3/lib/python3.7/site-packages/sklearn/utils/validation.py:595: DataConversionWarning: Data with input dtype int64 was converted to float64 by StandardScaler.\n",
      "  warnings.warn(msg, DataConversionWarning)\n"
     ]
    },
    {
     "data": {
      "image/png": "[encoded data removed]",
      "text/plain": [
       "<Figure size 432x288 with 2 Axes>"
      ]
     },
     "metadata": {
      "needs_background": "dark"
     },
     "output_type": "display_data"
    }
   ],
   "source": [
    "standardize(infos, 'budget', bins=50)"
   ]
  },
  {
   "cell_type": "code",
   "execution_count": 16,
   "metadata": {},
   "outputs": [
    {
     "name": "stderr",
     "output_type": "stream",
     "text": [
      "/home/dev/anaconda3/lib/python3.7/site-packages/sklearn/utils/validation.py:595: DataConversionWarning: Data with input dtype int64 was converted to float64 by StandardScaler.\n",
      "  warnings.warn(msg, DataConversionWarning)\n"
     ]
    },
    {
     "data": {
      "image/png": "[encoded data removed]",
      "text/plain": [
       "<Figure size 432x288 with 2 Axes>"
      ]
     },
     "metadata": {
      "needs_background": "dark"
     },
     "output_type": "display_data"
    }
   ],
   "source": [
    "standardize(infos, 'revenue_d', bins=50)"
   ]
  },
  {
   "cell_type": "code",
   "execution_count": 17,
   "metadata": {},
   "outputs": [],
   "source": [
    "for i in infos.keys():\n",
    "    del infos[i]['overview']\n",
    "    del infos[i]['tagline']\n",
    "    del infos[i]['title']\n",
    "    infos[i]['production_companies'] = [i for i in infos[i]['production_companies'] \n",
    "                                        if i is not None]"
   ]
  },
  {
   "cell_type": "code",
   "execution_count": 20,
   "metadata": {},
   "outputs": [
    {
     "data": {
      "text/plain": [
       "{'adult': False,\n",
       " 'collection': None,\n",
       " 'genres': [7, 12, 11],\n",
       " 'original_language': 0,\n",
       " 'popularity': 0.1084208585916617,\n",
       " 'production_companies': [13, 128],\n",
       " 'production_countries': [0],\n",
       " 'release_year': 1995,\n",
       " 'release_month': 12,\n",
       " 'revenue': 3.376926602813796,\n",
       " 'runtime': 0.16506363730309434,\n",
       " 'spoken_languages': [0, 1],\n",
       " 'vote_average': 0.7597458971107176,\n",
       " 'vote_count': 1.022352295938305,\n",
       " 'budget': 2.9205324409756246,\n",
       " 'revenue_d': 3.1674092020808633}"
      ]
     },
     "execution_count": 20,
     "metadata": {},
     "output_type": "execute_result"
    }
   ],
   "source": [
    "infos[2]"
   ]
  },
  {
   "cell_type": "code",
   "execution_count": 18,
   "metadata": {},
   "outputs": [],
   "source": [
    "pickle.dump(infos,  open( \"../data/processed_infos.p\", \"wb\" ))"
   ]
  },
  {
   "cell_type": "markdown",
   "metadata": {},
   "source": [
    "## Pytorch integration"
   ]
  },
  {
   "cell_type": "code",
   "execution_count": 21,
   "metadata": {},
   "outputs": [],
   "source": [
    "texts = pickle.load(open('../data/texts_bert.p', 'rb'))"
   ]
  },
  {
   "cell_type": "code",
   "execution_count": 37,
   "metadata": {},
   "outputs": [
    {
     "data": {
      "application/vnd.jupyter.widget-view+json": {
       "model_id": "f8133163862342448f0f1b2f15057947",
       "version_major": 2,
       "version_minor": 0
      },
      "text/plain": [
       "HBox(children=(IntProgress(value=0, max=27278), HTML(value='')))"
      ]
     },
     "metadata": {},
     "output_type": "display_data"
    },
    {
     "name": "stdout",
     "output_type": "stream",
     "text": [
      "\n"
     ]
    }
   ],
   "source": [
    "from tqdm import tqdm_notebook as tqdm\n",
    "import torch\n",
    "\n",
    "tensor_dict = {}\n",
    "\n",
    "for i in tqdm(infos.keys()):\n",
    "    \n",
    "    # (cathegorical data encodeing)\n",
    "    # [multicat] array[[indexes]] = 1\n",
    "    # genres unique: 23\n",
    "    # production_countries unique: 151\n",
    "    # spoken_languages unique: 140\n",
    "    # production_companies unique: 500\n",
    "    # [unicat] array[index] = 1\n",
    "    # collection unique: 910\n",
    "    # original_language unique: 89\n",
    "    \n",
    "    genres = torch.zeros(1, 23)\n",
    "    production_countries = torch.zeros(1, 151)\n",
    "    spoken_languages = torch.zeros(1, 140)\n",
    "    production_companies = torch.zeros(1, 500)\n",
    "    collection = torch.zeros(1, 910)\n",
    "    original_language = torch.zeros(1, 89)\n",
    "\n",
    "    genres[0][[infos[i]['genres']]] = 1\n",
    "    production_countries[0][[infos[i]['production_countries']]] = 1\n",
    "    spoken_languages[0][[infos[i]['spoken_languages']]] = 1\n",
    "    production_companies[0][[infos[i]['production_companies']]] = 1\n",
    "    if infos[i]['collection'] is not None:\n",
    "        collection[0][infos[i]['collection']] = 1\n",
    "    original_language[0][infos[i]['original_language']] = 1\n",
    "\n",
    "    misc = torch.tensor([[infos[i]['adult'], infos[i]['popularity'],\n",
    "                       infos[i]['release_year'], infos[i]['release_month'],\n",
    "                       infos[i]['revenue'],infos[i]['runtime'],\n",
    "                       infos[i]['vote_average'],infos[i]['vote_count'],\n",
    "                       infos[i]['budget'],infos[i]['revenue_d'],\n",
    "                       ]])\n",
    "    \n",
    "    text = torch.from_numpy(texts[i])\n",
    "    text = text.unsqueeze(0)\n",
    "    item = torch.cat([genres, production_countries,\n",
    "                     spoken_languages, production_companies,\n",
    "                     collection, original_language,\n",
    "                     misc, text], 1)\n",
    "    \n",
    "    # note may produce some nans!\n",
    "    item[torch.isnan(item)] = 0\n",
    "    tensor_dict[i] = item.squeeze()"
   ]
  },
  {
   "cell_type": "code",
   "execution_count": 40,
   "metadata": {},
   "outputs": [],
   "source": [
    "pickle.dump(tensor_dict,  open( \"../data/infos.pytorch\", \"wb\"))"
   ]
  },
  {
   "cell_type": "markdown",
   "metadata": {},
   "source": [
    "## AutoEncoders for Unsupervised Feature Learning\n",
    "### Not working\n",
    "\n",
    "It just seems to binary label encode it with tanh function. So there is 128 bit combination. Yucky.\n",
    "\n",
    "**Try PCA instead**"
   ]
  },
  {
   "cell_type": "code",
   "execution_count": 5,
   "metadata": {},
   "outputs": [],
   "source": [
    "%matplotlib inline\n",
    "\n",
    "import torch\n",
    "import torch.nn as nn\n",
    "import torch.nn.functional as F\n",
    "import torch.optim as optim\n",
    "from tqdm import tqdm_notebook as tqdm\n",
    "import seaborn as sns\n",
    "import pickle\n",
    "\n",
    "sns.set()\n",
    "cuda = torch.device('cuda')"
   ]
  },
  {
   "cell_type": "code",
   "execution_count": 51,
   "metadata": {},
   "outputs": [],
   "source": [
    "class AutoEncoder(nn.Module):\n",
    "    def __init__(self):\n",
    "        super(AutoEncoder, self).__init__()\n",
    "        \n",
    "        self.encoder = nn.Sequential(\n",
    "            nn.Linear(2591, 2048),\n",
    "            nn.ReLU(),\n",
    "            nn.Dropout(0.3),\n",
    "            nn.Linear(2048, 512),\n",
    "            nn.ReLU(),\n",
    "            nn.Dropout(0.3),\n",
    "            nn.Linear(512, 512),\n",
    "            nn.ReLU(),\n",
    "            nn.Dropout(0.3),\n",
    "            nn.Linear(512, 256),\n",
    "            nn.ReLU(),\n",
    "            nn.Dropout(0.3),\n",
    "            nn.Linear(256, 128),\n",
    "            nn.Tanh()\n",
    "        )\n",
    "        \n",
    "        self.decoder = nn.Sequential(\n",
    "            nn.Linear(128, 256),\n",
    "            nn.ReLU(),\n",
    "            nn.Dropout(0.3),\n",
    "            nn.Linear(256, 512),\n",
    "            nn.ReLU(),\n",
    "            nn.Dropout(0.3),\n",
    "            nn.Dropout(0.3),\n",
    "            nn.Linear(512, 512),\n",
    "            nn.ReLU(),\n",
    "            nn.Linear(512, 2048),\n",
    "            nn.ReLU(),\n",
    "            nn.Dropout(0.3),\n",
    "            nn.Linear(2048, 2591),\n",
    "        )\n",
    "        \n",
    "    def forward(self, x):\n",
    "        x = self.encoder(x)\n",
    "        x = self.decoder(x)\n",
    "        return x"
   ]
  },
  {
   "cell_type": "code",
   "execution_count": 137,
   "metadata": {},
   "outputs": [],
   "source": [
    "movies = pickle.load(open('../data/infos.pytorch', 'rb'))"
   ]
  },
  {
   "cell_type": "code",
   "execution_count": 138,
   "metadata": {},
   "outputs": [],
   "source": [
    "data = torch.stack(list(movies.values())).to(cuda)\n",
    "data[torch.isnan(data)] = 0"
   ]
  },
  {
   "cell_type": "code",
   "execution_count": 139,
   "metadata": {},
   "outputs": [
    {
     "data": {
      "application/vnd.jupyter.widget-view+json": {
       "model_id": "876157fbee9c43f48d241976642d5a07",
       "version_major": 2,
       "version_minor": 0
      },
      "text/plain": [
       "HBox(children=(IntProgress(value=0, max=500), HTML(value='')))"
      ]
     },
     "metadata": {},
     "output_type": "display_data"
    },
    {
     "name": "stdout",
     "output_type": "stream",
     "text": [
      "\n"
     ]
    }
   ],
   "source": [
    "n_epochs = 500\n",
    "batch_size = 1024\n",
    "\n",
    "model = AutoEncoder().to(cuda)\n",
    "criterion = nn.MSELoss()\n",
    "optimizer = optim.Adam(model.parameters(), lr=10e-5)\n",
    "run_loss = []\n",
    "\n",
    "for epoch in tqdm(range(n_epochs)):\n",
    "    for batch in data.split(batch_size):\n",
    "        optimizer.zero_grad()\n",
    "        batch = batch.to(cuda)\n",
    "        output = model(batch).float()\n",
    "        loss = criterion(output, batch)\n",
    "        loss.backward()\n",
    "        optimizer.step()\n",
    "        run_loss.append(loss.item())"
   ]
  },
  {
   "cell_type": "code",
   "execution_count": 140,
   "metadata": {},
   "outputs": [
    {
     "data": {
      "text/plain": [
       "<matplotlib.axes._subplots.AxesSubplot at 0x7f72f290f908>"
      ]
     },
     "execution_count": 140,
     "metadata": {},
     "output_type": "execute_result"
    },
    {
     "data": {
      "image/png": "[encoded data removed]",
      "text/plain": [
       "<Figure size 432x288 with 1 Axes>"
      ]
     },
     "metadata": {},
     "output_type": "display_data"
    }
   ],
   "source": [
    "# ya mamma joke here\n",
    "sns.lineplot(x=range(len(run_loss)), y=run_loss)"
   ]
  },
  {
   "cell_type": "code",
   "execution_count": 133,
   "metadata": {},
   "outputs": [
    {
     "data": {
      "application/vnd.jupyter.widget-view+json": {
       "model_id": "87cd6366113a40268e1a1523e694e577",
       "version_major": 2,
       "version_minor": 0
      },
      "text/plain": [
       "HBox(children=(IntProgress(value=0, max=27278), HTML(value='')))"
      ]
     },
     "metadata": {},
     "output_type": "display_data"
    },
    {
     "name": "stdout",
     "output_type": "stream",
     "text": [
      "\n"
     ]
    }
   ],
   "source": [
    "dim_reduced = {}\n",
    "model.eval()\n",
    "\n",
    "for k,v in tqdm(movies.items()):\n",
    "    v = v.unsqueeze(0).to(cuda)\n",
    "    dim_reduced[k] = model.encoder(v)"
   ]
  },
  {
   "cell_type": "code",
   "execution_count": 62,
   "metadata": {},
   "outputs": [],
   "source": [
    "# For some reason it does not work smh\n",
    "pickle.dump(dim_reduced,  open( \"../data/infos_dim128.pytorch\", \"wb\"))"
   ]
  },
  {
   "cell_type": "markdown",
   "metadata": {},
   "source": [
    "## Principal component analysis"
   ]
  },
  {
   "cell_type": "code",
   "execution_count": 15,
   "metadata": {},
   "outputs": [],
   "source": [
    "from sklearn.decomposition import PCA\n",
    "import pickle\n",
    "import torch\n",
    "pca = PCA(128)"
   ]
  },
  {
   "cell_type": "code",
   "execution_count": 16,
   "metadata": {},
   "outputs": [],
   "source": [
    "movies = pickle.load(open('../data/infos.pytorch', 'rb'))\n",
    "data = torch.stack(list(movies.values()))\n",
    "data[torch.isnan(data)] = 0"
   ]
  },
  {
   "cell_type": "code",
   "execution_count": 17,
   "metadata": {},
   "outputs": [
    {
     "data": {
      "text/plain": [
       "PCA(copy=True, iterated_power='auto', n_components=128, random_state=None,\n",
       "  svd_solver='auto', tol=0.0, whiten=False)"
      ]
     },
     "execution_count": 17,
     "metadata": {},
     "output_type": "execute_result"
    }
   ],
   "source": [
    "pca.fit(data.cpu().numpy())"
   ]
  },
  {
   "cell_type": "code",
   "execution_count": 18,
   "metadata": {},
   "outputs": [
    {
     "data": {
      "application/vnd.jupyter.widget-view+json": {
       "model_id": "6825df52deea4c9d9ad748da1456c481",
       "version_major": 2,
       "version_minor": 0
      },
      "text/plain": [
       "HBox(children=(IntProgress(value=0, max=27278), HTML(value='')))"
      ]
     },
     "metadata": {},
     "output_type": "display_data"
    },
    {
     "name": "stdout",
     "output_type": "stream",
     "text": [
      "\n"
     ]
    }
   ],
   "source": [
    "import numpy as np\n",
    "from tqdm import tqdm_notebook as tqdm\n",
    "dim_reduced = {}\n",
    "\n",
    "for k,v in tqdm(movies.items()):\n",
    "    v = v.numpy()\n",
    "    v[np.isnan(v)] = 0\n",
    "    dim_reduced[k] = torch.from_numpy(pca.transform(v.reshape(1, -1))).squeeze()"
   ]
  },
  {
   "cell_type": "code",
   "execution_count": 20,
   "metadata": {},
   "outputs": [
    {
     "data": {
      "text/plain": [
       "MinMaxScaler(copy=True, feature_range=(-1, 1))"
      ]
     },
     "execution_count": 20,
     "metadata": {},
     "output_type": "execute_result"
    }
   ],
   "source": [
    "from sklearn.preprocessing import MinMaxScaler\n",
    "scaler = MinMaxScaler(feature_range=(-1, 1))\n",
    "scaler.fit(np.stack(list(dim_reduced.values())))"
   ]
  },
  {
   "cell_type": "code",
   "execution_count": 22,
   "metadata": {},
   "outputs": [
    {
     "data": {
      "application/vnd.jupyter.widget-view+json": {
       "model_id": "d8d2d6fd755e471aa3f26762bceaa5e2",
       "version_major": 2,
       "version_minor": 0
      },
      "text/plain": [
       "HBox(children=(IntProgress(value=0, max=27278), HTML(value='')))"
      ]
     },
     "metadata": {},
     "output_type": "display_data"
    },
    {
     "name": "stdout",
     "output_type": "stream",
     "text": [
      "\n"
     ]
    }
   ],
   "source": [
    "for k,v in tqdm(dim_reduced.items()):\n",
    "    v = v.numpy()\n",
    "    dim_reduced[k] = torch.from_numpy(scaler.transform(v.reshape(1, -1))).squeeze()"
   ]
  },
  {
   "cell_type": "code",
   "execution_count": 26,
   "metadata": {},
   "outputs": [],
   "source": [
    "pickle.dump(dim_reduced,  open( \"../data/infos_pca128.pytorch\", \"wb\"))"
   ]
  },
  {
   "cell_type": "code",
   "execution_count": 25,
   "metadata": {},
   "outputs": [
    {
     "data": {
      "text/plain": [
       "tensor([-0.9792,  0.0043,  0.8163, -0.5884, -0.8780, -0.6665, -0.1932, -0.1978,\n",
       "        -0.7542, -0.9578, -0.8184, -0.0325, -0.6117, -0.4928, -0.3506, -0.2742,\n",
       "        -0.1464, -0.0573, -0.1902, -0.2422, -0.1715,  0.0085, -0.5535,  0.0557,\n",
       "        -0.1806,  0.1446, -0.4688, -0.2541, -0.4518,  0.1903, -0.2160,  0.0037,\n",
       "        -0.2260, -0.1706, -0.2285, -0.1242,  0.0975,  0.1135,  0.2490,  0.0379,\n",
       "        -0.0513, -0.1658, -0.2578, -0.3545, -0.1038, -0.1746, -0.6506,  0.2479,\n",
       "         0.0106,  0.0277, -0.4309, -0.2472, -0.0638,  0.0038, -0.1141,  0.1090,\n",
       "        -0.1636,  0.1760, -0.2333,  0.0046, -0.1572, -0.0209, -0.0682, -0.1415,\n",
       "        -0.2162,  0.1937,  0.1719, -0.0929,  0.0778,  0.0031,  0.0187,  0.0153,\n",
       "         0.3572, -0.1546, -0.0959,  0.0734, -0.1497, -0.1169,  0.2613, -0.2581,\n",
       "        -0.3272,  0.5021, -0.2477, -0.3021, -0.2637,  0.0461, -0.1885,  0.0593,\n",
       "        -0.1661, -0.1981, -0.2349, -0.0871,  0.0390, -0.1982, -0.1311, -0.1953,\n",
       "        -0.0153, -0.0904, -0.0487, -0.0655, -0.1341, -0.1551, -0.1925, -0.0535,\n",
       "        -0.2625, -0.2045, -0.0494, -0.0154, -0.2679,  0.0162,  0.0566, -0.0093,\n",
       "        -0.1451,  0.2883, -0.0851, -0.0564, -0.1531, -0.1860, -0.1139,  0.0290,\n",
       "        -0.1032,  0.1221, -0.3168,  0.0137, -0.2586, -0.1785,  0.0140, -0.2104])"
      ]
     },
     "execution_count": 25,
     "metadata": {},
     "output_type": "execute_result"
    }
   ],
   "source": []
  },
  {
   "cell_type": "code",
   "execution_count": null,
   "metadata": {},
   "outputs": [],
   "source": []
  }
 ],
 "metadata": {
  "kernelspec": {
   "display_name": "Python 3",
   "language": "python",
   "name": "python3"
  },
  "language_info": {
   "codemirror_mode": {
    "name": "ipython",
    "version": 3
   },
   "file_extension": ".py",
   "mimetype": "text/x-python",
   "name": "python",
   "nbconvert_exporter": "python",
   "pygments_lexer": "ipython3",
   "version": "3.7.3"
  }
 },
 "nbformat": 4,
 "nbformat_minor": 2
}
