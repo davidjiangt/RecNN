{
 "cells": [
  {
   "cell_type": "markdown",
   "metadata": {},
   "source": [
    "## Note this code takes 10 hours to run\n",
    "Partially because I dont know how to implement semaphore pattern in python\n",
    "The thing is with multiprocessing, if one process encounters 429 HTTP error caused by  request throtteling, all of the processes need to be put to sleep for 1/0.5 second. If you can do this, please commit to the repo.\n",
    "All the data is available for downloads in the repo's /data section except for the original dataset which you can find on [the lens dataset frontpage](https://grouplens.org/datasets/movielens/20m/)"
   ]
  },
  {
   "cell_type": "code",
   "execution_count": 1,
   "metadata": {},
   "outputs": [],
   "source": [
    "import pandas as pd\n",
    "from tqdm import tqdm_notebook as tqdm"
   ]
  },
  {
   "cell_type": "code",
   "execution_count": 4,
   "metadata": {},
   "outputs": [],
   "source": [
    "movies = pd.read_csv(\"data/ml-20m/movies.csv\")\n",
    "links = pd.read_csv(\"data/ml-20m/links.csv\")\n",
    "ratings = pd.read_csv(\"data/ml-20m/ratings.csv\")\n",
    "tags = pd.read_csv(\"data/ml-20m/tags.csv\")"
   ]
  },
  {
   "cell_type": "markdown",
   "metadata": {},
   "source": [
    "# Movies Parsing and Preprocessing"
   ]
  },
  {
   "cell_type": "markdown",
   "metadata": {},
   "source": [
    "## Tmdb parsing"
   ]
  },
  {
   "cell_type": "code",
   "execution_count": 6,
   "metadata": {},
   "outputs": [],
   "source": [
    "# ! pip install tmdbsimple\n",
    "import tmdbsimple as tmdb\n",
    "import numpy as np\n",
    "import pickle\n",
    "import time\n",
    "tmdb.API_KEY = 'cf3539645a105ad8ab9613b7f587a9f7'\n",
    "movie_infos = {}"
   ]
  },
  {
   "cell_type": "code",
   "execution_count": null,
   "metadata": {},
   "outputs": [],
   "source": [
    "failed = []\n",
    "for idx in tqdm(links.dropna().index):\n",
    "    try:\n",
    "        movie_infos[links['movieId'][idx]] = tmdb.Movies(links['tmdbId'][idx]).info()\n",
    "    except:\n",
    "        failed.append(idx)"
   ]
  },
  {
   "cell_type": "code",
   "execution_count": null,
   "metadata": {},
   "outputs": [],
   "source": [
    "pickle.dump(movie_infos,  open( \"data/infos_tmdb.p\", \"wb\" ))\n",
    "print(failed)"
   ]
  },
  {
   "cell_type": "code",
   "execution_count": 5,
   "metadata": {},
   "outputs": [],
   "source": [
    "failed = [4113, 4473, 4973, 5112, 6559, 7356, 7410, 7416, 7459, 7516, 7517, 8808, 8851, 8852, 8953, 8968, 8975, 8989, 9038, 9063, 9087, 9107, 9161, 9177, 9181, 9225, 9250, 9295, 9395, 9438, 9447, 9462, 9617, 9623, 9660, 9716, 9890, 10324, 10465, 10474, 10732, 10774, 10791, 11339, 11520, 11633, 11654, 11770, 11885, 11934, 11938, 11955, 12124, 12356, 12513, 12713, 12875, 12963, 13040, 13092, 13093, 13133, 13184, 13318, 13468, 13522, 13693, 13694, 13927, 13936, 13996, 14045, 14113, 14151, 14185, 14590, 14681, 14688, 14837, 14878, 14900, 15129, 15163, 15164, 15175, 15208, 15229, 15255, 15289, 15550, 15681, 15771, 15890, 15923, 16164, 16744, 16784, 16946, 17018, 17077, 17248, 17305, 17492, 17564, 17565, 17933, 18072, 18101, 18175, 18351, 18469, 18515, 18577, 18610, 18691, 18698, 18894, 18903, 18970, 18982, 19016, 19093, 19205, 19233, 19234, 19250, 19254, 19332, 19337, 19401, 19427, 19428, 19431, 19442, 19443, 19494, 19677, 19942, 19993, 20040, 20161, 20226, 20295, 20296, 20373, 20374, 20380, 20393, 20410, 20512, 20537, 20538, 20540, 20823, 20923, 20943, 20987, 21032, 21202, 21245, 21262, 21440, 21632, 21668, 21688, 21696, 21766, 21986, 22123, 22157, 22259, 22300, 22301, 22357, 22453, 22474, 22490, 22547, 22702, 22707, 22775, 22776, 22789, 22844, 22872, 23049, 23184, 23409, 23482, 23630, 23727, 23728, 23739, 23928, 24127, 24243, 24286, 24463, 24474, 24485, 24489, 24497, 24533, 24573, 24760, 24775, 25087, 25135, 25168, 25179, 25187, 25193, 25194, 25252, 25311, 25312, 25406, 25435, 25469, 25535, 25593, 25606, 25610, 25625, 25650, 25798, 25804, 25810, 25814, 25847, 25855, 25896, 25918, 26096, 26176, 26180, 26202, 26206, 26211, 26235, 26254, 26331, 26395, 26431, 26541, 26563, 26654, 26671, 26808, 26859, 26963, 27109, 27133, 27258]"
   ]
  },
  {
   "cell_type": "code",
   "execution_count": 13,
   "metadata": {},
   "outputs": [],
   "source": [
    "# extend with nans \n",
    "failed.extend(links[links.isnull().any(axis=1)].index)"
   ]
  },
  {
   "cell_type": "markdown",
   "metadata": {},
   "source": [
    "## Imdb parsing"
   ]
  },
  {
   "cell_type": "code",
   "execution_count": 18,
   "metadata": {},
   "outputs": [],
   "source": [
    "# ! pip install imdbpy\n",
    "from imdb import IMDb\n",
    "ia = IMDb()\n",
    "imdb_movies = {}\n",
    "imdb_failed = [118114]"
   ]
  },
  {
   "cell_type": "code",
   "execution_count": 21,
   "metadata": {},
   "outputs": [
    {
     "data": {
      "application/vnd.jupyter.widget-view+json": {
       "model_id": "88cd18d1851745948b6cff4c468a569f",
       "version_major": 2,
       "version_minor": 0
      },
      "text/plain": [
       "HBox(children=(IntProgress(value=0, max=506), HTML(value='')))"
      ]
     },
     "metadata": {},
     "output_type": "display_data"
    },
    {
     "name": "stderr",
     "output_type": "stream",
     "text": [
      "2019-04-05 09:27:00,521 CRITICAL [imdbpy] /home/dev/anaconda3/lib/python3.7/site-packages/imdb/_exceptions.py:34: IMDbDataAccessError exception raised; args: ({'errcode': None, 'errmsg': 'None', 'url': 'http://www.imdb.com/title/tt0118114/reference', 'proxy': '', 'exception type': 'IOError', 'original exception': <HTTPError 404: 'Not Found'>},); kwds: {}\n",
      "Traceback (most recent call last):\n",
      "  File \"/home/dev/anaconda3/lib/python3.7/site-packages/imdb/parser/http/__init__.py\", line 231, in retrieve_unicode\n",
      "    response = uopener.open(url)\n",
      "  File \"/home/dev/anaconda3/lib/python3.7/urllib/request.py\", line 531, in open\n",
      "    response = meth(req, response)\n",
      "  File \"/home/dev/anaconda3/lib/python3.7/urllib/request.py\", line 641, in http_response\n",
      "    'http', request, response, code, msg, hdrs)\n",
      "  File \"/home/dev/anaconda3/lib/python3.7/urllib/request.py\", line 563, in error\n",
      "    result = self._call_chain(*args)\n",
      "  File \"/home/dev/anaconda3/lib/python3.7/urllib/request.py\", line 503, in _call_chain\n",
      "    result = func(*args)\n",
      "  File \"/home/dev/anaconda3/lib/python3.7/urllib/request.py\", line 755, in http_error_302\n",
      "    return self.parent.open(new, timeout=req.timeout)\n",
      "  File \"/home/dev/anaconda3/lib/python3.7/urllib/request.py\", line 531, in open\n",
      "    response = meth(req, response)\n",
      "  File \"/home/dev/anaconda3/lib/python3.7/urllib/request.py\", line 641, in http_response\n",
      "    'http', request, response, code, msg, hdrs)\n",
      "  File \"/home/dev/anaconda3/lib/python3.7/urllib/request.py\", line 569, in error\n",
      "    return self._call_chain(*args)\n",
      "  File \"/home/dev/anaconda3/lib/python3.7/urllib/request.py\", line 503, in _call_chain\n",
      "    result = func(*args)\n",
      "  File \"/home/dev/anaconda3/lib/python3.7/urllib/request.py\", line 649, in http_error_default\n",
      "    raise HTTPError(req.full_url, code, msg, hdrs, fp)\n",
      "urllib.error.HTTPError: HTTP Error 404: Not Found\n",
      "2019-04-05 09:27:00,534 CRITICAL [imdbpy] /home/dev/anaconda3/lib/python3.7/site-packages/imdb/__init__.py:714: caught an exception retrieving or parsing \"main\" info set for mopID \"0118114\" (accessSystem: http)\n",
      "Traceback (most recent call last):\n",
      "  File \"/home/dev/anaconda3/lib/python3.7/site-packages/imdb/parser/http/__init__.py\", line 231, in retrieve_unicode\n",
      "    response = uopener.open(url)\n",
      "  File \"/home/dev/anaconda3/lib/python3.7/urllib/request.py\", line 531, in open\n",
      "    response = meth(req, response)\n",
      "  File \"/home/dev/anaconda3/lib/python3.7/urllib/request.py\", line 641, in http_response\n",
      "    'http', request, response, code, msg, hdrs)\n",
      "  File \"/home/dev/anaconda3/lib/python3.7/urllib/request.py\", line 563, in error\n",
      "    result = self._call_chain(*args)\n",
      "  File \"/home/dev/anaconda3/lib/python3.7/urllib/request.py\", line 503, in _call_chain\n",
      "    result = func(*args)\n",
      "  File \"/home/dev/anaconda3/lib/python3.7/urllib/request.py\", line 755, in http_error_302\n",
      "    return self.parent.open(new, timeout=req.timeout)\n",
      "  File \"/home/dev/anaconda3/lib/python3.7/urllib/request.py\", line 531, in open\n",
      "    response = meth(req, response)\n",
      "  File \"/home/dev/anaconda3/lib/python3.7/urllib/request.py\", line 641, in http_response\n",
      "    'http', request, response, code, msg, hdrs)\n",
      "  File \"/home/dev/anaconda3/lib/python3.7/urllib/request.py\", line 569, in error\n",
      "    return self._call_chain(*args)\n",
      "  File \"/home/dev/anaconda3/lib/python3.7/urllib/request.py\", line 503, in _call_chain\n",
      "    result = func(*args)\n",
      "  File \"/home/dev/anaconda3/lib/python3.7/urllib/request.py\", line 649, in http_error_default\n",
      "    raise HTTPError(req.full_url, code, msg, hdrs, fp)\n",
      "urllib.error.HTTPError: HTTP Error 404: Not Found\n",
      "\n",
      "During handling of the above exception, another exception occurred:\n",
      "\n",
      "Traceback (most recent call last):\n",
      "  File \"/home/dev/anaconda3/lib/python3.7/site-packages/imdb/__init__.py\", line 709, in update\n",
      "    ret = method(mopID)\n",
      "  File \"/home/dev/anaconda3/lib/python3.7/site-packages/imdb/parser/http/__init__.py\", line 446, in get_movie_main\n",
      "    cont = self._retrieve(self.urls['movie_main'] % movieID + 'reference')\n",
      "  File \"/home/dev/anaconda3/lib/python3.7/site-packages/imdb/parser/http/__init__.py\", line 406, in _retrieve\n",
      "    ret = self.urlOpener.retrieve_unicode(url, size=size)\n",
      "  File \"/home/dev/anaconda3/lib/python3.7/site-packages/imdb/parser/http/__init__.py\", line 265, in retrieve_unicode\n",
      "    'original exception': e}\n",
      "imdb._exceptions.IMDbDataAccessError: {'errcode': None, 'errmsg': 'None', 'url': 'http://www.imdb.com/title/tt0118114/reference', 'proxy': '', 'exception type': 'IOError', 'original exception': <HTTPError 404: 'Not Found'>}\n",
      "2019-04-05 09:27:00,886 CRITICAL [imdbpy] /home/dev/anaconda3/lib/python3.7/site-packages/imdb/_exceptions.py:34: IMDbDataAccessError exception raised; args: ({'errcode': None, 'errmsg': 'None', 'url': 'http://www.imdb.com/title/tt0118114/plotsummary', 'proxy': '', 'exception type': 'IOError', 'original exception': <HTTPError 404: 'Not Found'>},); kwds: {}\n",
      "Traceback (most recent call last):\n",
      "  File \"/home/dev/anaconda3/lib/python3.7/site-packages/imdb/parser/http/__init__.py\", line 231, in retrieve_unicode\n",
      "    response = uopener.open(url)\n",
      "  File \"/home/dev/anaconda3/lib/python3.7/urllib/request.py\", line 531, in open\n",
      "    response = meth(req, response)\n",
      "  File \"/home/dev/anaconda3/lib/python3.7/urllib/request.py\", line 641, in http_response\n",
      "    'http', request, response, code, msg, hdrs)\n",
      "  File \"/home/dev/anaconda3/lib/python3.7/urllib/request.py\", line 563, in error\n",
      "    result = self._call_chain(*args)\n",
      "  File \"/home/dev/anaconda3/lib/python3.7/urllib/request.py\", line 503, in _call_chain\n",
      "    result = func(*args)\n",
      "  File \"/home/dev/anaconda3/lib/python3.7/urllib/request.py\", line 755, in http_error_302\n",
      "    return self.parent.open(new, timeout=req.timeout)\n",
      "  File \"/home/dev/anaconda3/lib/python3.7/urllib/request.py\", line 531, in open\n",
      "    response = meth(req, response)\n",
      "  File \"/home/dev/anaconda3/lib/python3.7/urllib/request.py\", line 641, in http_response\n",
      "    'http', request, response, code, msg, hdrs)\n",
      "  File \"/home/dev/anaconda3/lib/python3.7/urllib/request.py\", line 569, in error\n",
      "    return self._call_chain(*args)\n",
      "  File \"/home/dev/anaconda3/lib/python3.7/urllib/request.py\", line 503, in _call_chain\n",
      "    result = func(*args)\n",
      "  File \"/home/dev/anaconda3/lib/python3.7/urllib/request.py\", line 649, in http_error_default\n",
      "    raise HTTPError(req.full_url, code, msg, hdrs, fp)\n",
      "urllib.error.HTTPError: HTTP Error 404: Not Found\n",
      "2019-04-05 09:27:00,887 CRITICAL [imdbpy] /home/dev/anaconda3/lib/python3.7/site-packages/imdb/__init__.py:714: caught an exception retrieving or parsing \"plot\" info set for mopID \"0118114\" (accessSystem: http)\n",
      "Traceback (most recent call last):\n",
      "  File \"/home/dev/anaconda3/lib/python3.7/site-packages/imdb/parser/http/__init__.py\", line 231, in retrieve_unicode\n",
      "    response = uopener.open(url)\n",
      "  File \"/home/dev/anaconda3/lib/python3.7/urllib/request.py\", line 531, in open\n",
      "    response = meth(req, response)\n",
      "  File \"/home/dev/anaconda3/lib/python3.7/urllib/request.py\", line 641, in http_response\n",
      "    'http', request, response, code, msg, hdrs)\n",
      "  File \"/home/dev/anaconda3/lib/python3.7/urllib/request.py\", line 563, in error\n",
      "    result = self._call_chain(*args)\n",
      "  File \"/home/dev/anaconda3/lib/python3.7/urllib/request.py\", line 503, in _call_chain\n",
      "    result = func(*args)\n",
      "  File \"/home/dev/anaconda3/lib/python3.7/urllib/request.py\", line 755, in http_error_302\n",
      "    return self.parent.open(new, timeout=req.timeout)\n",
      "  File \"/home/dev/anaconda3/lib/python3.7/urllib/request.py\", line 531, in open\n",
      "    response = meth(req, response)\n",
      "  File \"/home/dev/anaconda3/lib/python3.7/urllib/request.py\", line 641, in http_response\n",
      "    'http', request, response, code, msg, hdrs)\n",
      "  File \"/home/dev/anaconda3/lib/python3.7/urllib/request.py\", line 569, in error\n",
      "    return self._call_chain(*args)\n",
      "  File \"/home/dev/anaconda3/lib/python3.7/urllib/request.py\", line 503, in _call_chain\n",
      "    result = func(*args)\n",
      "  File \"/home/dev/anaconda3/lib/python3.7/urllib/request.py\", line 649, in http_error_default\n",
      "    raise HTTPError(req.full_url, code, msg, hdrs, fp)\n",
      "urllib.error.HTTPError: HTTP Error 404: Not Found\n",
      "\n",
      "During handling of the above exception, another exception occurred:\n",
      "\n",
      "Traceback (most recent call last):\n",
      "  File \"/home/dev/anaconda3/lib/python3.7/site-packages/imdb/__init__.py\", line 709, in update\n",
      "    ret = method(mopID)\n",
      "  File \"/home/dev/anaconda3/lib/python3.7/site-packages/imdb/parser/http/__init__.py\", line 454, in get_movie_plot\n",
      "    cont = self._retrieve(self.urls['movie_main'] % movieID + 'plotsummary')\n",
      "  File \"/home/dev/anaconda3/lib/python3.7/site-packages/imdb/parser/http/__init__.py\", line 406, in _retrieve\n",
      "    ret = self.urlOpener.retrieve_unicode(url, size=size)\n",
      "  File \"/home/dev/anaconda3/lib/python3.7/site-packages/imdb/parser/http/__init__.py\", line 265, in retrieve_unicode\n",
      "    'original exception': e}\n",
      "imdb._exceptions.IMDbDataAccessError: {'errcode': None, 'errmsg': 'None', 'url': 'http://www.imdb.com/title/tt0118114/plotsummary', 'proxy': '', 'exception type': 'IOError', 'original exception': <HTTPError 404: 'Not Found'>}\n"
     ]
    },
    {
     "name": "stdout",
     "output_type": "stream",
     "text": [
      "\n"
     ]
    }
   ],
   "source": [
    "for idx in tqdm(failed):\n",
    "    try:\n",
    "        imdb_movies[links['movieId'][idx]] = ia.get_movie(links['imdbId'][idx])\n",
    "    except:\n",
    "        imdb_failed.append(idx)"
   ]
  },
  {
   "cell_type": "code",
   "execution_count": 58,
   "metadata": {},
   "outputs": [],
   "source": [
    "import pickle\n",
    "pickle.dump(imdb_movies,  open( \"data/infos_imdb.p\", \"wb\" ))"
   ]
  },
  {
   "cell_type": "markdown",
   "metadata": {},
   "source": [
    "# Infos Processing"
   ]
  },
  {
   "cell_type": "code",
   "execution_count": 216,
   "metadata": {},
   "outputs": [],
   "source": [
    "tmdb_info = pickle.load(open( \"data/infos_tmdb.p\", \"rb\" ))\n",
    "imdb_info = pickle.load(open( \"data/infos_imdb.p\", \"rb\" ))"
   ]
  },
  {
   "cell_type": "markdown",
   "metadata": {},
   "source": [
    "### TMDB"
   ]
  },
  {
   "cell_type": "code",
   "execution_count": 217,
   "metadata": {},
   "outputs": [],
   "source": [
    "# tmdb_info[1]\n",
    "# adult\n",
    "# collection: family of films\n",
    "# budget\n",
    "# genres\n",
    "# original_language\n",
    "# overview\n",
    "# popularity\n",
    "# production companies: set of ids\n",
    "# production_countries: set of labels\n",
    "# release_date\n",
    "# revenue\n",
    "# runtime\n",
    "# spoken_languages\n",
    "# tagline\n",
    "# title\n",
    "# vote_average\n",
    "# vote_count\n",
    "movie_infos = {}\n",
    "for i in tmdb_info.keys():\n",
    "    movie = tmdb_info[i]\n",
    "    raw = {}\n",
    "    raw['adult'] = movie['adult']\n",
    "    raw['collection'] = None\n",
    "    if movie['belongs_to_collection'] is not None:\n",
    "        raw['collection'] =  movie['belongs_to_collection']['id']\n",
    "    raw['genres'] = [i['id'] for i in movie['genres']] \n",
    "    raw['original_language'] = movie['original_language']\n",
    "    raw['overview'] = movie['overview']\n",
    "    raw['popularity'] = movie['popularity']\n",
    "    raw['production_companies'] = [i['id'] for i in movie['production_companies']]\n",
    "    raw['production_countries'] = [i['iso_3166_1'].lower() for i in movie['production_countries']]\n",
    "    if movie['release_date']:\n",
    "        raw['release_year'] = int(movie['release_date'].split('-')[0])\n",
    "        raw['release_month'] = int(movie['release_date'].split('-')[1])\n",
    "    else:\n",
    "        raw['release_year'] = 0\n",
    "        raw['release_month'] = 0\n",
    "    raw['revenue'] = movie['revenue']\n",
    "    raw['runtime'] = movie['runtime']\n",
    "    raw['spoken_languages'] = [i['iso_639_1'] for i in movie['spoken_languages']]\n",
    "    raw['tagline'] = movie['tagline']\n",
    "    raw['title'] = movie['title']\n",
    "    raw['vote_average'] = movie['vote_average']\n",
    "    raw['vote_count'] = movie['vote_count']\n",
    "    movie_infos[i] = raw"
   ]
  },
  {
   "cell_type": "code",
   "execution_count": 218,
   "metadata": {},
   "outputs": [
    {
     "data": {
      "text/plain": [
       "{'adult': False,\n",
       " 'backdrop_path': '/dji4Fm0gCDVb9DQQMRvAI8YNnTz.jpg',\n",
       " 'belongs_to_collection': {'id': 10194,\n",
       "  'name': 'Toy Story Collection',\n",
       "  'poster_path': '/7G9915LfUQ2lVfwMEEhDsn3kT4B.jpg',\n",
       "  'backdrop_path': '/9FBwqcd9IRruEDUrTdcaafOMKUq.jpg'},\n",
       " 'budget': 30000000,\n",
       " 'genres': [{'id': 16, 'name': 'Animation'},\n",
       "  {'id': 35, 'name': 'Comedy'},\n",
       "  {'id': 10751, 'name': 'Family'}],\n",
       " 'homepage': 'http://toystory.disney.com/toy-story',\n",
       " 'id': 862,\n",
       " 'imdb_id': 'tt0114709',\n",
       " 'original_language': 'en',\n",
       " 'original_title': 'Toy Story',\n",
       " 'overview': \"Led by Woody, Andy's toys live happily in his room until Andy's birthday brings Buzz Lightyear onto the scene. Afraid of losing his place in Andy's heart, Woody plots against Buzz. But when circumstances separate Buzz and Woody from their owner, the duo eventually learns to put aside their differences.\",\n",
       " 'popularity': 25.398,\n",
       " 'poster_path': '/rhIRbceoE9lR4veEXuwCC2wARtG.jpg',\n",
       " 'production_companies': [{'id': 3,\n",
       "   'logo_path': '/1TjvGVDMYsj6JBxOAkUHpPEwLf7.png',\n",
       "   'name': 'Pixar',\n",
       "   'origin_country': 'US'}],\n",
       " 'production_countries': [{'iso_3166_1': 'US',\n",
       "   'name': 'United States of America'}],\n",
       " 'release_date': '1995-10-30',\n",
       " 'revenue': 373554033,\n",
       " 'runtime': 81,\n",
       " 'spoken_languages': [{'iso_639_1': 'en', 'name': 'English'}],\n",
       " 'status': 'Released',\n",
       " 'tagline': '',\n",
       " 'title': 'Toy Story',\n",
       " 'video': False,\n",
       " 'vote_average': 7.9,\n",
       " 'vote_count': 9787}"
      ]
     },
     "execution_count": 218,
     "metadata": {},
     "output_type": "execute_result"
    }
   ],
   "source": [
    "tmdb_info[1]"
   ]
  },
  {
   "cell_type": "markdown",
   "metadata": {},
   "source": [
    "### IMDB"
   ]
  },
  {
   "cell_type": "code",
   "execution_count": 219,
   "metadata": {},
   "outputs": [],
   "source": [
    "tmdb_genres_dict = {}\n",
    "tmdb_companies_dict = {}\n",
    "for i in tmdb_info.keys():\n",
    "    movie = tmdb_info[i]\n",
    "    genres = [{'id': i['id'], 'name': i['name']} for i in movie['genres']] \n",
    "    companies = [{'id': i['id'], 'name': i['name']} for i in movie['production_companies']] \n",
    "    for i in genres:\n",
    "        tmdb_genres_dict[i['name']] = i['id']\n",
    "    for i in companies:\n",
    "        tmdb_companies_dict[i['name']] = i['id']"
   ]
  },
  {
   "cell_type": "code",
   "execution_count": 220,
   "metadata": {},
   "outputs": [],
   "source": [
    "tmdb_genres_dict['Sport'] = 1\n",
    "tmdb_genres_dict['Sci-Fi'] = 878\n",
    "tmdb_genres_dict['Biography'] = 99\n",
    "tmdb_genres_dict['Musical'] = 10402\n",
    "tmdb_genres_dict['Short'] = 2\n",
    "tmdb_genres_dict['News'] = 3\n",
    "tmdb_genres_dict['Film-Noir'] = 4"
   ]
  },
  {
   "cell_type": "code",
   "execution_count": 221,
   "metadata": {},
   "outputs": [
    {
     "data": {
      "application/vnd.jupyter.widget-view+json": {
       "model_id": "407df56648b44d3187e3877454a29fe4",
       "version_major": 2,
       "version_minor": 0
      },
      "text/plain": [
       "HBox(children=(IntProgress(value=0, max=506), HTML(value='')))"
      ]
     },
     "metadata": {},
     "output_type": "display_data"
    },
    {
     "name": "stdout",
     "output_type": "stream",
     "text": [
      "\n"
     ]
    }
   ],
   "source": [
    "# imdb_movies[4207].data\n",
    "# 1 (tmdb format) : imdb_movies[id].data['2'] (imdb format)\n",
    "# adult: certificates\n",
    "# budget: None\n",
    "# genres: genres\n",
    "# original_language: language codes\n",
    "# overview: plot outline + plot\n",
    "# popularity: None?\n",
    "# production_companies: None\n",
    "# production_countries: countries\n",
    "# release_date: original air date\n",
    "# revenue: None\n",
    "# runtime: runtimes[0]\n",
    "# spoken_languages: language codes\n",
    "# tagline: None\n",
    "# vote_average: rating\n",
    "# vote_count: votes\n",
    "# title: title\n",
    "import calendar\n",
    "month_to_num = dict((v,k) for k,v in enumerate(calendar.month_abbr))\n",
    "\n",
    "for i in tqdm(imdb_movies.keys()):\n",
    "    movie = imdb_movies[i].data\n",
    "    raw = {}\n",
    "    raw['adult'] = False\n",
    "    raw['collection'] = None\n",
    "    raw['genres'] = []\n",
    "    if 'genres' in movie:\n",
    "        raw['genres'] = [tmdb_genres_dict[i] for i in movie['genres']] \n",
    "    \n",
    "    raw['original_language'] = ''\n",
    "    if 'language codes' in movie:\n",
    "        raw['original_language'] = movie['language codes'][0]\n",
    "    try:\n",
    "        raw['overview'] = movie['plot outline'] + ' '.join([i.split(\"::\")[0] for i in movie['plot']])\n",
    "    except: \n",
    "        try:\n",
    "            raw['overview'] = ' '.join([i.split(\"::\")[0] for i in movie['plot']])\n",
    "        except:\n",
    "            raw['overview'] = ''\n",
    "    raw['popularity'] = 0\n",
    "    # raw['production_companies'] = [tmdb_companies_dict[i['name']] for i in movie['production companies']]\n",
    "    production_companies = []\n",
    "    if 'production companies' in movie:\n",
    "        for c in movie['production companies']:\n",
    "            try:\n",
    "                production_companies.append(tmdb_companies_dict[c['name']])\n",
    "            except:\n",
    "                pass\n",
    "    raw['production_companies'] = production_companies\n",
    "    raw['production_countries'] = []\n",
    "    if 'country codes' in movie:\n",
    "        raw['production_countries'] = [i.lower() for i in movie['country codes']]\n",
    "    \n",
    "    raw['release_year'] = 0\n",
    "    if 'year' in movie:\n",
    "        raw['release_year'] = int(movie['year'])\n",
    "    try:\n",
    "        raw['release_month'] = month_to_num[movie['original air date'].split()[1]]\n",
    "    except:\n",
    "        raw['release_month'] = 1\n",
    "    raw['revenue'] = 0\n",
    "    try:\n",
    "        raw['runtime'] = int(movie['runtimes'][0])\n",
    "    except:\n",
    "        raw['runtime'] = 0\n",
    "    try:\n",
    "        raw['spoken_languages'] = movie['language codes']\n",
    "    except:\n",
    "        raw['spoken_languages'] = []\n",
    "    raw['tagline'] = ''\n",
    "    if 'title' in movie:\n",
    "        raw['title'] = movie['title']\n",
    "    else:\n",
    "        raw['title'] = movies[movies['movieId'] == i]['title'].values[0]\n",
    "    raw['vote_average'] = 0\n",
    "    if 'rating' in movie:\n",
    "        raw['vote_average'] = movie['rating']\n",
    "    raw['vote_count'] = 0\n",
    "    if 'votes' in movie:\n",
    "        raw['vote_count'] = movie['votes']\n",
    "    movie_infos[i] = raw"
   ]
  },
  {
   "cell_type": "code",
   "execution_count": 227,
   "metadata": {},
   "outputs": [
    {
     "data": {
      "text/plain": [
       "{'adult': False,\n",
       " 'collection': 10194,\n",
       " 'genres': [16, 35, 10751],\n",
       " 'original_language': 'en',\n",
       " 'overview': \"Led by Woody, Andy's toys live happily in his room until Andy's birthday brings Buzz Lightyear onto the scene. Afraid of losing his place in Andy's heart, Woody plots against Buzz. But when circumstances separate Buzz and Woody from their owner, the duo eventually learns to put aside their differences.\",\n",
       " 'popularity': 25.398,\n",
       " 'production_companies': [3],\n",
       " 'production_countries': ['us'],\n",
       " 'release_year': 1995,\n",
       " 'release_month': 10,\n",
       " 'revenue': 373554033,\n",
       " 'runtime': 81,\n",
       " 'spoken_languages': ['en'],\n",
       " 'tagline': '',\n",
       " 'title': 'Toy Story',\n",
       " 'vote_average': 7.9,\n",
       " 'vote_count': 9787}"
      ]
     },
     "execution_count": 227,
     "metadata": {},
     "output_type": "execute_result"
    }
   ],
   "source": [
    "movie_infos[1]"
   ]
  },
  {
   "cell_type": "code",
   "execution_count": 225,
   "metadata": {},
   "outputs": [],
   "source": [
    "# make sure we are not missing any movies\n",
    "assert set(movie_infos.keys()) == (set(movies['movieId'].values))"
   ]
  },
  {
   "cell_type": "code",
   "execution_count": 226,
   "metadata": {},
   "outputs": [],
   "source": [
    "pickle.dump(movie_infos,  open( \"data/infos.p\", \"wb\" ))"
   ]
  },
  {
   "cell_type": "code",
   "execution_count": null,
   "metadata": {},
   "outputs": [],
   "source": [
    "movie_infos_int_keys = {}\n",
    "for k in movie_infos.keys():\n",
    "    movie_infos_int_keys[int(k)] = movie_infos[k]"
   ]
  },
  {
   "cell_type": "code",
   "execution_count": null,
   "metadata": {},
   "outputs": [],
   "source": [
    "import json\n",
    "with open('data/infos.json', 'w') as outfile:  \n",
    "    json.dump(movie_infos_int_keys, outfile)"
   ]
  }
 ],
 "metadata": {
  "kernelspec": {
   "display_name": "Python 3",
   "language": "python",
   "name": "python3"
  },
  "language_info": {
   "codemirror_mode": {
    "name": "ipython",
    "version": 3
   },
   "file_extension": ".py",
   "mimetype": "text/x-python",
   "name": "python",
   "nbconvert_exporter": "python",
   "pygments_lexer": "ipython3",
   "version": "3.7.1"
  }
 },
 "nbformat": 4,
 "nbformat_minor": 2
}
